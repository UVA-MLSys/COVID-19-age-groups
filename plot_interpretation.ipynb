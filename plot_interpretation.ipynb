{
 "cells": [
  {
   "cell_type": "code",
   "execution_count": 1,
   "metadata": {},
   "outputs": [],
   "source": [
    "import pandas as pd\n",
    "import os\n",
    "from utils.plotter import PlotResults\n",
    "from utils.tools import align_predictions"
   ]
  },
  {
   "cell_type": "code",
   "execution_count": 2,
   "metadata": {},
   "outputs": [],
   "source": [
    "import torch\n",
    "attr = torch.load(\n",
    "    'results/FEDformer_Total/interpretation/test_feature_ablation.pt'\n",
    ")"
   ]
  },
  {
   "cell_type": "code",
   "execution_count": 9,
   "metadata": {},
   "outputs": [
    {
     "name": "stdout",
     "output_type": "stream",
     "text": [
      "Namespace(test=False, model='FEDformer', seed=7, root_path='./dataset/processed/', data_path='Top_20.csv', result_path='scratch', freq='d', no_scale=False, seq_len=14, label_len=7, pred_len=14, top_k=5, num_kernels=6, d_model=64, n_heads=4, e_layers=2, d_layers=1, d_ff=256, moving_avg=7, factor=3, distil=True, dropout=0.1, embed='timeF', activation='gelu', output_attention=False, num_workers=0, train_epochs=10, batch_size=32, patience=3, learning_rate=0.001, des='', loss='MSE', lradj='type1', use_amp=False, no_gpu=False, gpu=0, use_multi_gpu=False, devices='0,1,2,3', p_hidden_dims=[64, 64], p_hidden_layers=2, disable_progress=False)\n"
     ]
    }
   ],
   "source": [
    "from run import *\n",
    "argv = \"\"\"\n",
    "--data_path Top_20.csv --model FEDformer --result_path scratch\n",
    "\"\"\".split()\n",
    "parser = get_parser()\n",
    "args = parser.parse_args(argv)\n",
    "print(args)\n",
    "\n",
    "setting = stringify_setting(args)"
   ]
  },
  {
   "cell_type": "code",
   "execution_count": 11,
   "metadata": {},
   "outputs": [
    {
     "name": "stdout",
     "output_type": "stream",
     "text": [
      "adding time index columns TimeFromStart\n",
      "added time encoded known reals ['month', 'day', 'weekday'].\n",
      "\n",
      "Train samples 12740, validation samples 560,             test samples 560, last samples 7980\n",
      "637 days of training, 14 days of validation data,             14 days of test data and 385 of data after test start.\n",
      "\n",
      "Fitting scalers on train data\n"
     ]
    }
   ],
   "source": [
    "from data.data_factory import AgeData\n",
    "from exp.config import Split\n",
    "\n",
    "age_data = AgeData.build(args)\n",
    "total_data = age_data.read_df()\n",
    "train, val, test, updated = age_data.split_data(\n",
    "    total_data, Split.primary()\n",
    ")"
   ]
  },
  {
   "cell_type": "code",
   "execution_count": 20,
   "metadata": {},
   "outputs": [
    {
     "name": "stdout",
     "output_type": "stream",
     "text": [
      "Loading dataset from ./dataset/processed\\Top_20\\test.pt\n"
     ]
    }
   ],
   "source": [
    "flag = 'test'\n",
    "dataset_root = os.path.join(DataConfig.root_folder, args.data_path.split('.')[0])\n",
    "path = os.path.join(dataset_root, f'{flag}.pt')\n",
    "ts_dataset = None\n",
    "if os.path.exists(path):\n",
    "    print(f'Loading dataset from {path}')\n",
    "    ts_dataset = torch.load(path)\n",
    "\n",
    "dataset, dataloader = age_data.create_tslib_timeseries(\n",
    "    data=test, train=False, \n",
    "    ts_dataset=ts_dataset # using a cached dataset help speeding up\n",
    ")"
   ]
  },
  {
   "cell_type": "code",
   "execution_count": 21,
   "metadata": {},
   "outputs": [],
   "source": [
    "time_index = age_data.time_index\n",
    "predictions_index = pd.DataFrame(\n",
    "    dataset.ranges, \n",
    "    columns=age_data.group_ids + [time_index]\n",
    ")\n",
    "predictions_index[time_index] += args.pred_len + test[time_index].min()"
   ]
  },
  {
   "cell_type": "code",
   "execution_count": 14,
   "metadata": {},
   "outputs": [],
   "source": [
    "past_features = age_data.static_reals + age_data.observed_reals"
   ]
  },
  {
   "cell_type": "code",
   "execution_count": 22,
   "metadata": {},
   "outputs": [],
   "source": [
    "attr = torch.load(\n",
    "    f\"{args.result_path}/{args.model}_{args.data_path.split('.')[0]}/interpretation/{flag}_feature_ablation.pt\"\n",
    ")"
   ]
  },
  {
   "cell_type": "code",
   "execution_count": 25,
   "metadata": {},
   "outputs": [
    {
     "data": {
      "text/plain": [
       "numpy.ndarray"
      ]
     },
     "execution_count": 25,
     "metadata": {},
     "output_type": "execute_result"
    }
   ],
   "source": [
    "type(attr[0])"
   ]
  },
  {
   "cell_type": "code",
   "execution_count": 35,
   "metadata": {},
   "outputs": [],
   "source": [
    "pred = attr[0].mean(axis=2)[:, :, -2]"
   ]
  },
  {
   "cell_type": "code",
   "execution_count": 37,
   "metadata": {},
   "outputs": [
    {
     "data": {
      "text/html": [
       "<div>\n",
       "<style scoped>\n",
       "    .dataframe tbody tr th:only-of-type {\n",
       "        vertical-align: middle;\n",
       "    }\n",
       "\n",
       "    .dataframe tbody tr th {\n",
       "        vertical-align: top;\n",
       "    }\n",
       "\n",
       "    .dataframe thead th {\n",
       "        text-align: right;\n",
       "    }\n",
       "</style>\n",
       "<table border=\"1\" class=\"dataframe\">\n",
       "  <thead>\n",
       "    <tr style=\"text-align: right;\">\n",
       "      <th></th>\n",
       "      <th>Date</th>\n",
       "      <th>FIPS</th>\n",
       "      <th>TimeFromStart</th>\n",
       "      <th>Cases</th>\n",
       "      <th>Predicted_Cases</th>\n",
       "    </tr>\n",
       "  </thead>\n",
       "  <tbody>\n",
       "    <tr>\n",
       "      <th>0</th>\n",
       "      <td>2021-12-12</td>\n",
       "      <td>2261</td>\n",
       "      <td>651</td>\n",
       "      <td>0.0</td>\n",
       "      <td>0.002513</td>\n",
       "    </tr>\n",
       "    <tr>\n",
       "      <th>1</th>\n",
       "      <td>2021-12-13</td>\n",
       "      <td>2261</td>\n",
       "      <td>652</td>\n",
       "      <td>0.0</td>\n",
       "      <td>-0.000716</td>\n",
       "    </tr>\n",
       "    <tr>\n",
       "      <th>2</th>\n",
       "      <td>2021-12-14</td>\n",
       "      <td>2261</td>\n",
       "      <td>653</td>\n",
       "      <td>0.0</td>\n",
       "      <td>-0.000078</td>\n",
       "    </tr>\n",
       "    <tr>\n",
       "      <th>3</th>\n",
       "      <td>2021-12-15</td>\n",
       "      <td>2261</td>\n",
       "      <td>654</td>\n",
       "      <td>2.0</td>\n",
       "      <td>0.004564</td>\n",
       "    </tr>\n",
       "    <tr>\n",
       "      <th>4</th>\n",
       "      <td>2021-12-16</td>\n",
       "      <td>2261</td>\n",
       "      <td>655</td>\n",
       "      <td>5.0</td>\n",
       "      <td>0.001311</td>\n",
       "    </tr>\n",
       "    <tr>\n",
       "      <th>...</th>\n",
       "      <td>...</td>\n",
       "      <td>...</td>\n",
       "      <td>...</td>\n",
       "      <td>...</td>\n",
       "      <td>...</td>\n",
       "    </tr>\n",
       "    <tr>\n",
       "      <th>275</th>\n",
       "      <td>2021-12-21</td>\n",
       "      <td>53033</td>\n",
       "      <td>660</td>\n",
       "      <td>612.0</td>\n",
       "      <td>0.006265</td>\n",
       "    </tr>\n",
       "    <tr>\n",
       "      <th>276</th>\n",
       "      <td>2021-12-22</td>\n",
       "      <td>53033</td>\n",
       "      <td>661</td>\n",
       "      <td>707.0</td>\n",
       "      <td>0.006293</td>\n",
       "    </tr>\n",
       "    <tr>\n",
       "      <th>277</th>\n",
       "      <td>2021-12-23</td>\n",
       "      <td>53033</td>\n",
       "      <td>662</td>\n",
       "      <td>1708.0</td>\n",
       "      <td>-0.006286</td>\n",
       "    </tr>\n",
       "    <tr>\n",
       "      <th>278</th>\n",
       "      <td>2021-12-24</td>\n",
       "      <td>53033</td>\n",
       "      <td>663</td>\n",
       "      <td>0.0</td>\n",
       "      <td>-0.012669</td>\n",
       "    </tr>\n",
       "    <tr>\n",
       "      <th>279</th>\n",
       "      <td>2021-12-25</td>\n",
       "      <td>53033</td>\n",
       "      <td>664</td>\n",
       "      <td>0.0</td>\n",
       "      <td>0.001658</td>\n",
       "    </tr>\n",
       "  </tbody>\n",
       "</table>\n",
       "<p>280 rows × 5 columns</p>\n",
       "</div>"
      ],
      "text/plain": [
       "          Date   FIPS  TimeFromStart   Cases  Predicted_Cases\n",
       "0   2021-12-12   2261            651     0.0         0.002513\n",
       "1   2021-12-13   2261            652     0.0        -0.000716\n",
       "2   2021-12-14   2261            653     0.0        -0.000078\n",
       "3   2021-12-15   2261            654     2.0         0.004564\n",
       "4   2021-12-16   2261            655     5.0         0.001311\n",
       "..         ...    ...            ...     ...              ...\n",
       "275 2021-12-21  53033            660   612.0         0.006265\n",
       "276 2021-12-22  53033            661   707.0         0.006293\n",
       "277 2021-12-23  53033            662  1708.0        -0.006286\n",
       "278 2021-12-24  53033            663     0.0        -0.012669\n",
       "279 2021-12-25  53033            664     0.0         0.001658\n",
       "\n",
       "[280 rows x 5 columns]"
      ]
     },
     "execution_count": 37,
     "metadata": {},
     "output_type": "execute_result"
    }
   ],
   "source": [
    "merged = align_predictions(\n",
    "    test, predictions_index, \n",
    "    [pred], age_data, upscale=False, \n",
    "    remove_negative=False\n",
    ")\n",
    "merged"
   ]
  }
 ],
 "metadata": {
  "kernelspec": {
   "display_name": "Python 3",
   "language": "python",
   "name": "python3"
  },
  "language_info": {
   "codemirror_mode": {
    "name": "ipython",
    "version": 3
   },
   "file_extension": ".py",
   "mimetype": "text/x-python",
   "name": "python",
   "nbconvert_exporter": "python",
   "pygments_lexer": "ipython3",
   "version": "3.10.11"
  }
 },
 "nbformat": 4,
 "nbformat_minor": 2
}
