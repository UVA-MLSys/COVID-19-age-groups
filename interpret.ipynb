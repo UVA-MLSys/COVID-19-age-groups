{
 "cells": [
  {
   "cell_type": "markdown",
   "metadata": {},
   "source": [
    "# Import"
   ]
  },
  {
   "cell_type": "code",
   "execution_count": 1,
   "metadata": {},
   "outputs": [],
   "source": [
    "from run import *\n",
    "from tint.metrics import mse, mae\n",
    "import tint, gc, os\n",
    "from tqdm import tqdm\n",
    "import pandas as pd\n",
    "from exp.config import FeatureFiles\n",
    "from utils.interpreter import *\n",
    "\n",
    "from tint.attr import (\n",
    "    AugmentedOcclusion,\n",
    "    DynaMask,\n",
    "    Occlusion, \n",
    "    FeatureAblation\n",
    ")"
   ]
  },
  {
   "cell_type": "markdown",
   "metadata": {},
   "source": [
    "# Arguments"
   ]
  },
  {
   "cell_type": "code",
   "execution_count": 4,
   "metadata": {},
   "outputs": [],
   "source": [
    "parser = get_parser()\n",
    "argv = \"\"\"\n",
    "  --model Autoformer --use_gpu --result_path scratch --data_path Top_20.csv\n",
    "\"\"\".split()\n",
    "args = parser.parse_args(argv)\n",
    "\n",
    "args.n_features = len(set(DataConfig.static_reals+DataConfig.observed_reals+DataConfig.targets))\n",
    "args.enc_in = args.dec_in = args.c_out = args.n_features\n",
    "args.n_targets = len(DataConfig.targets)"
   ]
  },
  {
   "cell_type": "markdown",
   "metadata": {},
   "source": [
    "# Experiment "
   ]
  },
  {
   "cell_type": "code",
   "execution_count": 5,
   "metadata": {},
   "outputs": [],
   "source": [
    "set_random_seed(args.seed)\n",
    "# Disable cudnn if using cuda accelerator.\n",
    "# Please see https://captum.ai/docs/faq#how-can-i-resolve-cudnn-rnn-backward-error-for-rnn-or-lstm-network\n",
    "# args.use_gpu = False\n",
    "\n",
    "Exp = Exp_Forecast\n",
    "\n",
    "setting = stringify_setting(args)"
   ]
  },
  {
   "cell_type": "code",
   "execution_count": 6,
   "metadata": {},
   "outputs": [
    {
     "name": "stdout",
     "output_type": "stream",
     "text": [
      "Use GPU: cuda:0\n",
      "\n",
      "Train samples 12740, validation samples 560, test samples 560\n",
      "637 days of training, 14 days of validation data, 14 days of test data.\n",
      "\n",
      "Fitting scalers on train data\n",
      "Loading dataset from ./dataset/processed\\Top_20\\train.pt\n",
      "Loading dataset from ./dataset/processed\\Top_20\\val.pt\n",
      "Loading dataset from ./dataset/processed\\Top_20\\test.pt\n",
      "loading best model from scratch\\Autoformer_Top_20\\checkpoint.pth\n"
     ]
    }
   ],
   "source": [
    "exp = Exp(args, setting)  # set experiments\n",
    "exp.load_model()\n",
    "result_folder = exp.output_folder\n",
    "model = exp.model\n",
    "model.eval()"
   ]
  },
  {
   "cell_type": "markdown",
   "metadata": {},
   "source": [
    "# Interpret"
   ]
  },
  {
   "cell_type": "markdown",
   "metadata": {},
   "source": [
    "## Calculate Attribute"
   ]
  },
  {
   "cell_type": "code",
   "execution_count": 94,
   "metadata": {},
   "outputs": [],
   "source": [
    "flag = 'train'\n",
    "dataset, dataloader = exp._get_data(flag)\n",
    "\n",
    "explainer = FeatureAblation(model)\n",
    "attr = batch_compute_attr(dataloader, exp, explainer)"
   ]
  },
  {
   "cell_type": "code",
   "execution_count": 211,
   "metadata": {},
   "outputs": [
    {
     "data": {
      "text/html": [
       "<div>\n",
       "<style scoped>\n",
       "    .dataframe tbody tr th:only-of-type {\n",
       "        vertical-align: middle;\n",
       "    }\n",
       "\n",
       "    .dataframe tbody tr th {\n",
       "        vertical-align: top;\n",
       "    }\n",
       "\n",
       "    .dataframe thead th {\n",
       "        text-align: right;\n",
       "    }\n",
       "</style>\n",
       "<table border=\"1\" class=\"dataframe\">\n",
       "  <thead>\n",
       "    <tr style=\"text-align: right;\">\n",
       "      <th></th>\n",
       "      <th>Date</th>\n",
       "      <th>FIPS</th>\n",
       "      <th>UNDER5</th>\n",
       "      <th>AGE517</th>\n",
       "      <th>AGE1829</th>\n",
       "      <th>AGE3039</th>\n",
       "      <th>AGE4049</th>\n",
       "      <th>AGE5064</th>\n",
       "      <th>AGE6574</th>\n",
       "      <th>AGE75PLUS</th>\n",
       "      <th>VaccinationFull</th>\n",
       "      <th>Cases</th>\n",
       "      <th>SinWeekly</th>\n",
       "      <th>TimeFromStart</th>\n",
       "    </tr>\n",
       "  </thead>\n",
       "  <tbody>\n",
       "    <tr>\n",
       "      <th>746</th>\n",
       "      <td>2020-03-01</td>\n",
       "      <td>2261</td>\n",
       "      <td>0.0062</td>\n",
       "      <td>0.0160</td>\n",
       "      <td>0.0140</td>\n",
       "      <td>0.0146</td>\n",
       "      <td>0.0117</td>\n",
       "      <td>0.0235</td>\n",
       "      <td>0.0103</td>\n",
       "      <td>0.0004</td>\n",
       "      <td>0.0</td>\n",
       "      <td>0.0</td>\n",
       "      <td>-0.7818</td>\n",
       "      <td>0</td>\n",
       "    </tr>\n",
       "    <tr>\n",
       "      <th>1782</th>\n",
       "      <td>2020-03-01</td>\n",
       "      <td>4013</td>\n",
       "      <td>0.0601</td>\n",
       "      <td>0.1717</td>\n",
       "      <td>0.1678</td>\n",
       "      <td>0.1392</td>\n",
       "      <td>0.1254</td>\n",
       "      <td>0.1771</td>\n",
       "      <td>0.0912</td>\n",
       "      <td>0.0675</td>\n",
       "      <td>0.0</td>\n",
       "      <td>1.0</td>\n",
       "      <td>-0.7818</td>\n",
       "      <td>0</td>\n",
       "    </tr>\n",
       "    <tr>\n",
       "      <th>2818</th>\n",
       "      <td>2020-03-01</td>\n",
       "      <td>6037</td>\n",
       "      <td>0.0560</td>\n",
       "      <td>0.1558</td>\n",
       "      <td>0.1738</td>\n",
       "      <td>0.1525</td>\n",
       "      <td>0.1311</td>\n",
       "      <td>0.1865</td>\n",
       "      <td>0.0826</td>\n",
       "      <td>0.0617</td>\n",
       "      <td>0.0</td>\n",
       "      <td>130.0</td>\n",
       "      <td>-0.7818</td>\n",
       "      <td>0</td>\n",
       "    </tr>\n",
       "  </tbody>\n",
       "</table>\n",
       "</div>"
      ],
      "text/plain": [
       "           Date  FIPS  UNDER5  AGE517  AGE1829  AGE3039  AGE4049  AGE5064  \\\n",
       "746  2020-03-01  2261  0.0062  0.0160   0.0140   0.0146   0.0117   0.0235   \n",
       "1782 2020-03-01  4013  0.0601  0.1717   0.1678   0.1392   0.1254   0.1771   \n",
       "2818 2020-03-01  6037  0.0560  0.1558   0.1738   0.1525   0.1311   0.1865   \n",
       "\n",
       "      AGE6574  AGE75PLUS  VaccinationFull  Cases  SinWeekly  TimeFromStart  \n",
       "746    0.0103     0.0004              0.0    0.0    -0.7818              0  \n",
       "1782   0.0912     0.0675              0.0    1.0    -0.7818              0  \n",
       "2818   0.0826     0.0617              0.0  130.0    -0.7818              0  "
      ]
     },
     "execution_count": 211,
     "metadata": {},
     "output_type": "execute_result"
    }
   ],
   "source": [
    "df = exp.data_map[flag]\n",
    "df.sort_values(by=['Date', 'FIPS'], inplace=True)\n",
    "df.head(3)"
   ]
  },
  {
   "cell_type": "markdown",
   "metadata": {},
   "source": [
    "## Get ground truth"
   ]
  },
  {
   "cell_type": "code",
   "execution_count": null,
   "metadata": {},
   "outputs": [],
   "source": [
    "# Load ground truth\n",
    "group_cases = pd.read_csv(\n",
    "    os.path.join(FeatureFiles.root_folder, 'Cases by age groups.csv')\n",
    ")\n",
    "group_cases['end_of_week'] = pd.to_datetime(group_cases['end_of_week'])\n",
    "\n",
    "population = pd.read_csv('dataset/raw/Population.csv')\n",
    "population = population[['FIPS', 'POPESTIMATE']]"
   ]
  },
  {
   "cell_type": "markdown",
   "metadata": {},
   "source": [
    "## Aggregate"
   ]
  },
  {
   "cell_type": "markdown",
   "metadata": {},
   "source": [
    "### Unweighted"
   ]
  },
  {
   "cell_type": "code",
   "execution_count": null,
   "metadata": {},
   "outputs": [],
   "source": [
    "attr_numpy = attr.detach().cpu().numpy()\n",
    "np.save(os.path.join(exp.output_folder, f'{flag}_{explainer.get_name()}.npy'), attr_numpy)\n",
    "# taking absolute since we want the magnitude of feature importance only\n",
    "attr_numpy  = np.abs(attr_numpy)\n",
    "\n",
    "# align importance along their time axis with the input data\n",
    "features = exp.age_data.static_reals + exp.age_data.observed_reals\n",
    "age_features = DataConfig.static_reals\n",
    "\n",
    "attr_df = align_interpretation(\n",
    "    ranges=dataset.ranges,\n",
    "    attr=attr_numpy,\n",
    "    features=features,\n",
    "    min_date=df['Date'].min(),\n",
    "    seq_len=args.seq_len, pred_len=args.pred_len\n",
    ")\n",
    "print(attr_df.describe())"
   ]
  },
  {
   "cell_type": "code",
   "execution_count": 220,
   "metadata": {},
   "outputs": [],
   "source": [
    "attr_by_date = attr_df.groupby('Date')[\n",
    "    age_features\n",
    "].aggregate('sum').reset_index()"
   ]
  },
  {
   "cell_type": "markdown",
   "metadata": {},
   "source": [
    "### Weighted"
   ]
  },
  {
   "cell_type": "code",
   "execution_count": 257,
   "metadata": {},
   "outputs": [],
   "source": [
    "weights = df.groupby('FIPS').first()[age_features].reset_index()\n",
    "groups = []\n",
    "\n",
    "for FIPS, group_df in attr_df.groupby('FIPS'):\n",
    "    county_age_weights = weights[weights['FIPS']==FIPS][age_features].values\n",
    "    total_population = population[\n",
    "        population['FIPS']==FIPS]['POPESTIMATE'].values[0]\n",
    "    group_df[age_features] *= county_age_weights * total_population\n",
    "    # group_df[age_features] *= total_population\n",
    "    groups.append(group_df)\n",
    "    \n",
    "groups = pd.concat(groups, axis=0)\n",
    "weighted_attr_df = groups[['FIPS', 'Date']+age_features].reset_index(drop=True)\n",
    "\n",
    "weighted_attr_by_date = weighted_attr_df.groupby('Date')[\n",
    "    age_features].aggregate('sum').reset_index()"
   ]
  },
  {
   "cell_type": "markdown",
   "metadata": {},
   "source": [
    "## Evaluate globally"
   ]
  },
  {
   "cell_type": "code",
   "execution_count": null,
   "metadata": {},
   "outputs": [],
   "source": [
    "dates = attr_by_date['Date'].values\n",
    "first_common_date = find_first_common_date(group_cases, dates)\n",
    "last_common_date = find_last_common_date(group_cases, dates)\n",
    "\n",
    "summed_ground_truth = group_cases[\n",
    "    (group_cases['end_of_week']>=first_common_date) &\n",
    "    (group_cases['end_of_week']<=last_common_date)\n",
    "][age_features].mean(axis=0).T.reset_index()\n",
    "summed_ground_truth.columns = ['age_group', 'cases']\n",
    "summed_ground_truth"
   ]
  },
  {
   "cell_type": "markdown",
   "metadata": {},
   "source": [
    "### Unweighted"
   ]
  },
  {
   "cell_type": "code",
   "execution_count": 241,
   "metadata": {},
   "outputs": [
    {
     "data": {
      "text/html": [
       "<div>\n",
       "<style scoped>\n",
       "    .dataframe tbody tr th:only-of-type {\n",
       "        vertical-align: middle;\n",
       "    }\n",
       "\n",
       "    .dataframe tbody tr th {\n",
       "        vertical-align: top;\n",
       "    }\n",
       "\n",
       "    .dataframe thead th {\n",
       "        text-align: right;\n",
       "    }\n",
       "</style>\n",
       "<table border=\"1\" class=\"dataframe\">\n",
       "  <thead>\n",
       "    <tr style=\"text-align: right;\">\n",
       "      <th></th>\n",
       "      <th>age_group</th>\n",
       "      <th>attr</th>\n",
       "    </tr>\n",
       "  </thead>\n",
       "  <tbody>\n",
       "    <tr>\n",
       "      <th>0</th>\n",
       "      <td>UNDER5</td>\n",
       "      <td>0.066876</td>\n",
       "    </tr>\n",
       "    <tr>\n",
       "      <th>1</th>\n",
       "      <td>AGE517</td>\n",
       "      <td>0.059743</td>\n",
       "    </tr>\n",
       "    <tr>\n",
       "      <th>2</th>\n",
       "      <td>AGE1829</td>\n",
       "      <td>0.067455</td>\n",
       "    </tr>\n",
       "    <tr>\n",
       "      <th>3</th>\n",
       "      <td>AGE3039</td>\n",
       "      <td>0.069482</td>\n",
       "    </tr>\n",
       "    <tr>\n",
       "      <th>4</th>\n",
       "      <td>AGE4049</td>\n",
       "      <td>0.065127</td>\n",
       "    </tr>\n",
       "    <tr>\n",
       "      <th>5</th>\n",
       "      <td>AGE5064</td>\n",
       "      <td>0.075087</td>\n",
       "    </tr>\n",
       "    <tr>\n",
       "      <th>6</th>\n",
       "      <td>AGE6574</td>\n",
       "      <td>0.055690</td>\n",
       "    </tr>\n",
       "    <tr>\n",
       "      <th>7</th>\n",
       "      <td>AGE75PLUS</td>\n",
       "      <td>0.085042</td>\n",
       "    </tr>\n",
       "  </tbody>\n",
       "</table>\n",
       "</div>"
      ],
      "text/plain": [
       "   age_group      attr\n",
       "0     UNDER5  0.066876\n",
       "1     AGE517  0.059743\n",
       "2    AGE1829  0.067455\n",
       "3    AGE3039  0.069482\n",
       "4    AGE4049  0.065127\n",
       "5    AGE5064  0.075087\n",
       "6    AGE6574  0.055690\n",
       "7  AGE75PLUS  0.085042"
      ]
     },
     "execution_count": 241,
     "metadata": {},
     "output_type": "execute_result"
    }
   ],
   "source": [
    "summed_attr = attr_df[\n",
    "    (attr_df['Date']>=(first_common_date-pd.to_timedelta(6, unit='D'))) &\n",
    "    (attr_df['Date']<=last_common_date)\n",
    "][age_features].mean(axis=0).T.reset_index()\n",
    "summed_attr.columns = ['age_group', 'attr']\n",
    "summed_attr"
   ]
  },
  {
   "cell_type": "code",
   "execution_count": 247,
   "metadata": {},
   "outputs": [
    {
     "data": {
      "text/html": [
       "<div>\n",
       "<style scoped>\n",
       "    .dataframe tbody tr th:only-of-type {\n",
       "        vertical-align: middle;\n",
       "    }\n",
       "\n",
       "    .dataframe tbody tr th {\n",
       "        vertical-align: top;\n",
       "    }\n",
       "\n",
       "    .dataframe thead th {\n",
       "        text-align: right;\n",
       "    }\n",
       "</style>\n",
       "<table border=\"1\" class=\"dataframe\">\n",
       "  <thead>\n",
       "    <tr style=\"text-align: right;\">\n",
       "      <th></th>\n",
       "      <th>age_group</th>\n",
       "      <th>cases</th>\n",
       "      <th>attr</th>\n",
       "    </tr>\n",
       "  </thead>\n",
       "  <tbody>\n",
       "    <tr>\n",
       "      <th>0</th>\n",
       "      <td>UNDER5</td>\n",
       "      <td>2.684803</td>\n",
       "      <td>12.281976</td>\n",
       "    </tr>\n",
       "    <tr>\n",
       "      <th>1</th>\n",
       "      <td>AGE517</td>\n",
       "      <td>13.290540</td>\n",
       "      <td>10.972135</td>\n",
       "    </tr>\n",
       "    <tr>\n",
       "      <th>2</th>\n",
       "      <td>AGE1829</td>\n",
       "      <td>21.508396</td>\n",
       "      <td>12.388451</td>\n",
       "    </tr>\n",
       "    <tr>\n",
       "      <th>3</th>\n",
       "      <td>AGE3039</td>\n",
       "      <td>16.658589</td>\n",
       "      <td>12.760715</td>\n",
       "    </tr>\n",
       "    <tr>\n",
       "      <th>4</th>\n",
       "      <td>AGE4049</td>\n",
       "      <td>14.521426</td>\n",
       "      <td>11.960767</td>\n",
       "    </tr>\n",
       "    <tr>\n",
       "      <th>5</th>\n",
       "      <td>AGE5064</td>\n",
       "      <td>18.918540</td>\n",
       "      <td>13.789963</td>\n",
       "    </tr>\n",
       "    <tr>\n",
       "      <th>6</th>\n",
       "      <td>AGE6574</td>\n",
       "      <td>7.049264</td>\n",
       "      <td>10.227716</td>\n",
       "    </tr>\n",
       "    <tr>\n",
       "      <th>7</th>\n",
       "      <td>AGE75PLUS</td>\n",
       "      <td>5.368442</td>\n",
       "      <td>15.618274</td>\n",
       "    </tr>\n",
       "  </tbody>\n",
       "</table>\n",
       "</div>"
      ],
      "text/plain": [
       "   age_group      cases       attr\n",
       "0     UNDER5   2.684803  12.281976\n",
       "1     AGE517  13.290540  10.972135\n",
       "2    AGE1829  21.508396  12.388451\n",
       "3    AGE3039  16.658589  12.760715\n",
       "4    AGE4049  14.521426  11.960767\n",
       "5    AGE5064  18.918540  13.789963\n",
       "6    AGE6574   7.049264  10.227716\n",
       "7  AGE75PLUS   5.368442  15.618274"
      ]
     },
     "execution_count": 247,
     "metadata": {},
     "output_type": "execute_result"
    }
   ],
   "source": [
    "merged = summed_ground_truth.merge(\n",
    "    summed_attr, on='age_group', how='inner'\n",
    ") \n",
    "merged[['cases', 'attr']] = merged[['cases', 'attr']].div(merged[['cases', 'attr']].sum(axis=0)/100, axis=1)\n",
    "merged"
   ]
  },
  {
   "cell_type": "markdown",
   "metadata": {},
   "source": [
    "### Weighted"
   ]
  },
  {
   "cell_type": "code",
   "execution_count": 258,
   "metadata": {},
   "outputs": [
    {
     "data": {
      "text/html": [
       "<div>\n",
       "<style scoped>\n",
       "    .dataframe tbody tr th:only-of-type {\n",
       "        vertical-align: middle;\n",
       "    }\n",
       "\n",
       "    .dataframe tbody tr th {\n",
       "        vertical-align: top;\n",
       "    }\n",
       "\n",
       "    .dataframe thead th {\n",
       "        text-align: right;\n",
       "    }\n",
       "</style>\n",
       "<table border=\"1\" class=\"dataframe\">\n",
       "  <thead>\n",
       "    <tr style=\"text-align: right;\">\n",
       "      <th></th>\n",
       "      <th>age_group</th>\n",
       "      <th>attr</th>\n",
       "    </tr>\n",
       "  </thead>\n",
       "  <tbody>\n",
       "    <tr>\n",
       "      <th>0</th>\n",
       "      <td>UNDER5</td>\n",
       "      <td>13760.914048</td>\n",
       "    </tr>\n",
       "    <tr>\n",
       "      <th>1</th>\n",
       "      <td>AGE517</td>\n",
       "      <td>32547.453866</td>\n",
       "    </tr>\n",
       "    <tr>\n",
       "      <th>2</th>\n",
       "      <td>AGE1829</td>\n",
       "      <td>36913.976632</td>\n",
       "    </tr>\n",
       "    <tr>\n",
       "      <th>3</th>\n",
       "      <td>AGE3039</td>\n",
       "      <td>34282.368886</td>\n",
       "    </tr>\n",
       "    <tr>\n",
       "      <th>4</th>\n",
       "      <td>AGE4049</td>\n",
       "      <td>27710.678503</td>\n",
       "    </tr>\n",
       "    <tr>\n",
       "      <th>5</th>\n",
       "      <td>AGE5064</td>\n",
       "      <td>46890.374127</td>\n",
       "    </tr>\n",
       "    <tr>\n",
       "      <th>6</th>\n",
       "      <td>AGE6574</td>\n",
       "      <td>16021.508204</td>\n",
       "    </tr>\n",
       "    <tr>\n",
       "      <th>7</th>\n",
       "      <td>AGE75PLUS</td>\n",
       "      <td>14940.071591</td>\n",
       "    </tr>\n",
       "  </tbody>\n",
       "</table>\n",
       "</div>"
      ],
      "text/plain": [
       "   age_group          attr\n",
       "0     UNDER5  13760.914048\n",
       "1     AGE517  32547.453866\n",
       "2    AGE1829  36913.976632\n",
       "3    AGE3039  34282.368886\n",
       "4    AGE4049  27710.678503\n",
       "5    AGE5064  46890.374127\n",
       "6    AGE6574  16021.508204\n",
       "7  AGE75PLUS  14940.071591"
      ]
     },
     "execution_count": 258,
     "metadata": {},
     "output_type": "execute_result"
    }
   ],
   "source": [
    "summed_weighted_attr = weighted_attr_df[\n",
    "    (weighted_attr_df['Date']>=(first_common_date-pd.to_timedelta(6, unit='D'))) &\n",
    "    (weighted_attr_df['Date']<=last_common_date)\n",
    "][age_features].mean(axis=0).T.reset_index()\n",
    "summed_weighted_attr.columns = ['age_group', 'attr']\n",
    "summed_weighted_attr"
   ]
  },
  {
   "cell_type": "code",
   "execution_count": 259,
   "metadata": {},
   "outputs": [
    {
     "data": {
      "text/html": [
       "<div>\n",
       "<style scoped>\n",
       "    .dataframe tbody tr th:only-of-type {\n",
       "        vertical-align: middle;\n",
       "    }\n",
       "\n",
       "    .dataframe tbody tr th {\n",
       "        vertical-align: top;\n",
       "    }\n",
       "\n",
       "    .dataframe thead th {\n",
       "        text-align: right;\n",
       "    }\n",
       "</style>\n",
       "<table border=\"1\" class=\"dataframe\">\n",
       "  <thead>\n",
       "    <tr style=\"text-align: right;\">\n",
       "      <th></th>\n",
       "      <th>age_group</th>\n",
       "      <th>cases</th>\n",
       "      <th>attr</th>\n",
       "      <th>cases_rank</th>\n",
       "      <th>attr_rank</th>\n",
       "    </tr>\n",
       "  </thead>\n",
       "  <tbody>\n",
       "    <tr>\n",
       "      <th>0</th>\n",
       "      <td>UNDER5</td>\n",
       "      <td>2.684803</td>\n",
       "      <td>6.168950</td>\n",
       "      <td>8.0</td>\n",
       "      <td>8.0</td>\n",
       "    </tr>\n",
       "    <tr>\n",
       "      <th>1</th>\n",
       "      <td>AGE517</td>\n",
       "      <td>13.290540</td>\n",
       "      <td>14.590864</td>\n",
       "      <td>5.0</td>\n",
       "      <td>4.0</td>\n",
       "    </tr>\n",
       "    <tr>\n",
       "      <th>2</th>\n",
       "      <td>AGE1829</td>\n",
       "      <td>21.508396</td>\n",
       "      <td>16.548355</td>\n",
       "      <td>1.0</td>\n",
       "      <td>2.0</td>\n",
       "    </tr>\n",
       "    <tr>\n",
       "      <th>3</th>\n",
       "      <td>AGE3039</td>\n",
       "      <td>16.658589</td>\n",
       "      <td>15.368618</td>\n",
       "      <td>3.0</td>\n",
       "      <td>3.0</td>\n",
       "    </tr>\n",
       "    <tr>\n",
       "      <th>4</th>\n",
       "      <td>AGE4049</td>\n",
       "      <td>14.521426</td>\n",
       "      <td>12.422562</td>\n",
       "      <td>4.0</td>\n",
       "      <td>5.0</td>\n",
       "    </tr>\n",
       "    <tr>\n",
       "      <th>5</th>\n",
       "      <td>AGE5064</td>\n",
       "      <td>18.918540</td>\n",
       "      <td>21.020725</td>\n",
       "      <td>2.0</td>\n",
       "      <td>1.0</td>\n",
       "    </tr>\n",
       "    <tr>\n",
       "      <th>6</th>\n",
       "      <td>AGE6574</td>\n",
       "      <td>7.049264</td>\n",
       "      <td>7.182364</td>\n",
       "      <td>6.0</td>\n",
       "      <td>6.0</td>\n",
       "    </tr>\n",
       "    <tr>\n",
       "      <th>7</th>\n",
       "      <td>AGE75PLUS</td>\n",
       "      <td>5.368442</td>\n",
       "      <td>6.697561</td>\n",
       "      <td>7.0</td>\n",
       "      <td>7.0</td>\n",
       "    </tr>\n",
       "  </tbody>\n",
       "</table>\n",
       "</div>"
      ],
      "text/plain": [
       "   age_group      cases       attr  cases_rank  attr_rank\n",
       "0     UNDER5   2.684803   6.168950         8.0        8.0\n",
       "1     AGE517  13.290540  14.590864         5.0        4.0\n",
       "2    AGE1829  21.508396  16.548355         1.0        2.0\n",
       "3    AGE3039  16.658589  15.368618         3.0        3.0\n",
       "4    AGE4049  14.521426  12.422562         4.0        5.0\n",
       "5    AGE5064  18.918540  21.020725         2.0        1.0\n",
       "6    AGE6574   7.049264   7.182364         6.0        6.0\n",
       "7  AGE75PLUS   5.368442   6.697561         7.0        7.0"
      ]
     },
     "execution_count": 259,
     "metadata": {},
     "output_type": "execute_result"
    }
   ],
   "source": [
    "global_rank = summed_ground_truth.merge(\n",
    "    summed_weighted_attr, on='age_group', how='inner'\n",
    ") \n",
    "global_rank[['cases', 'attr']] = global_rank[['cases', 'attr']].div(\n",
    "    global_rank[['cases', 'attr']].sum(axis=0)/100, axis=1)\n",
    "\n",
    "global_rank['cases_rank'] = global_rank['cases'].rank(\n",
    "    axis=0, ascending=False\n",
    ")\n",
    "global_rank['attr_rank'] = global_rank['attr'].rank(\n",
    "    axis=0, ascending=False\n",
    ")\n",
    "print(global_rank)"
   ]
  },
  {
   "cell_type": "code",
   "execution_count": 250,
   "metadata": {},
   "outputs": [
    {
     "name": "stdout",
     "output_type": "stream",
     "text": [
      "   age_group      cases       attr  cases_rank  attr_rank\n",
      "0     UNDER5   2.684803   6.168950         8.0        8.0\n",
      "1     AGE517  13.290540  14.590864         5.0        4.0\n",
      "2    AGE1829  21.508396  16.548355         1.0        2.0\n",
      "3    AGE3039  16.658589  15.368618         3.0        3.0\n",
      "4    AGE4049  14.521426  12.422562         4.0        5.0\n",
      "5    AGE5064  18.918540  21.020725         2.0        1.0\n",
      "6    AGE6574   7.049264   7.182364         6.0        6.0\n",
      "7  AGE75PLUS   5.368442   6.697561         7.0        7.0\n"
     ]
    }
   ],
   "source": [
    "global_rank.to_csv(\n",
    "    os.path.join(\n",
    "        exp.output_folder, \n",
    "        f'{flag}_global_rank_{explainer.get_name()}.csv'\n",
    "    ), \n",
    "    index=False\n",
    ")"
   ]
  },
  {
   "cell_type": "markdown",
   "metadata": {},
   "source": [
    "## Evaluate Local Interpretation"
   ]
  },
  {
   "cell_type": "markdown",
   "metadata": {},
   "source": [
    "### Unweighted"
   ]
  },
  {
   "cell_type": "code",
   "execution_count": 260,
   "metadata": {},
   "outputs": [
    {
     "name": "stdout",
     "output_type": "stream",
     "text": [
      "Found first common date 2020-03-21T00:00:00.000000000.\n",
      "\n",
      "        Rank mae: 0.30372, rmse: 0.38069, ndcg: 0.88171\n",
      "\n",
      "        Normalized mae: 0.061155, rmse: 0.071744, ndcg: 0.80684\n",
      "    \n"
     ]
    }
   ],
   "source": [
    "# find a common start point\n",
    "first_common_date = find_first_common_date(\n",
    "    group_cases, attr_by_date['Date'].values\n",
    ")\n",
    "# since age group ground truth is weekly aggregated\n",
    "# do the same for predicted importance\n",
    "weekly_agg_scores = aggregate_importance_by_window(\n",
    "    attr_by_date, age_features, first_common_date\n",
    ")\n",
    "result_df = evaluate_interpretation(\n",
    "    group_cases, weekly_agg_scores, age_features\n",
    ")"
   ]
  },
  {
   "cell_type": "markdown",
   "metadata": {},
   "source": [
    "### Weighted"
   ]
  },
  {
   "cell_type": "code",
   "execution_count": 262,
   "metadata": {},
   "outputs": [
    {
     "name": "stdout",
     "output_type": "stream",
     "text": [
      "Found first common date 2020-03-21T00:00:00.000000000.\n",
      "\n",
      "        Rank mae: 0.10218, rmse: 0.14873, ndcg: 0.98545\n",
      "\n",
      "        Normalized mae: 0.030308, rmse: 0.039382, ndcg: 0.96357\n",
      "    \n"
     ]
    }
   ],
   "source": [
    "# find a common start point\n",
    "first_common_date = find_first_common_date(\n",
    "    group_cases, weighted_attr_by_date['Date'].values\n",
    ")\n",
    "# since age group ground truth is weekly aggregated\n",
    "# do the same for predicted importance\n",
    "weekly_agg_scores_df = aggregate_importance_by_window(\n",
    "    weighted_attr_by_date, age_features, first_common_date\n",
    ")\n",
    "result_df = evaluate_interpretation(\n",
    "    group_cases, weekly_agg_scores_df, age_features\n",
    ")\n",
    "result_df.to_csv(\n",
    "    os.path.join(\n",
    "        exp.output_folder, \n",
    "        f'{flag}_int_metrics_{explainer.get_name()}.csv'\n",
    "    ), \n",
    "    index=False\n",
    ")"
   ]
  }
 ],
 "metadata": {
  "kernelspec": {
   "display_name": "Python 3",
   "language": "python",
   "name": "python3"
  },
  "language_info": {
   "codemirror_mode": {
    "name": "ipython",
    "version": 3
   },
   "file_extension": ".py",
   "mimetype": "text/x-python",
   "name": "python",
   "nbconvert_exporter": "python",
   "pygments_lexer": "ipython3",
   "version": "3.10.11"
  },
  "orig_nbformat": 4
 },
 "nbformat": 4,
 "nbformat_minor": 2
}
