{
 "cells": [
  {
   "cell_type": "code",
   "execution_count": 1,
   "metadata": {},
   "outputs": [],
   "source": [
    "from run import *\n",
    "from tint.metrics import mse, mae\n",
    "import tint, gc, os\n",
    "from tqdm import tqdm\n",
    "import pandas as pd\n",
    "from exp.config import FeatureFiles\n",
    "from utils.interpreter import *\n",
    "\n",
    "from tint.attr import (\n",
    "    AugmentedOcclusion,\n",
    "    DynaMask,\n",
    "    Occlusion, \n",
    "    FeatureAblation\n",
    ")"
   ]
  },
  {
   "cell_type": "code",
   "execution_count": 4,
   "metadata": {},
   "outputs": [],
   "source": [
    "parser = get_parser()\n",
    "argv = \"\"\"\n",
    "  --model Autoformer --use_gpu --result_path scratch --data_path Top_20.csv\n",
    "\"\"\".split()\n",
    "args = parser.parse_args(argv)\n",
    "\n",
    "args.n_features = len(set(DataConfig.static_reals+DataConfig.observed_reals+DataConfig.targets))\n",
    "args.enc_in = args.dec_in = args.c_out = args.n_features\n",
    "args.n_targets = len(DataConfig.targets)"
   ]
  },
  {
   "cell_type": "code",
   "execution_count": 5,
   "metadata": {},
   "outputs": [],
   "source": [
    "set_random_seed(args.seed)\n",
    "# Disable cudnn if using cuda accelerator.\n",
    "# Please see https://captum.ai/docs/faq#how-can-i-resolve-cudnn-rnn-backward-error-for-rnn-or-lstm-network\n",
    "# args.use_gpu = False\n",
    "\n",
    "Exp = Exp_Forecast\n",
    "\n",
    "setting = stringify_setting(args)"
   ]
  },
  {
   "cell_type": "code",
   "execution_count": 6,
   "metadata": {},
   "outputs": [
    {
     "name": "stdout",
     "output_type": "stream",
     "text": [
      "Use GPU: cuda:0\n",
      "\n",
      "Train samples 12740, validation samples 560, test samples 560\n",
      "637 days of training, 14 days of validation data, 14 days of test data.\n",
      "\n",
      "Fitting scalers on train data\n",
      "Loading dataset from ./dataset/processed\\Top_20\\train.pt\n",
      "Loading dataset from ./dataset/processed\\Top_20\\val.pt\n",
      "Loading dataset from ./dataset/processed\\Top_20\\test.pt\n",
      "loading best model from scratch\\Autoformer_Top_20\\checkpoint.pth\n"
     ]
    }
   ],
   "source": [
    "exp = Exp(args, setting)  # set experiments\n",
    "exp.load_model()\n",
    "result_folder = exp.output_folder"
   ]
  },
  {
   "cell_type": "code",
   "execution_count": 7,
   "metadata": {},
   "outputs": [],
   "source": [
    "model = exp.model\n",
    "model.eval()\n",
    "explainer = FeatureAblation(model)"
   ]
  },
  {
   "cell_type": "code",
   "execution_count": 8,
   "metadata": {},
   "outputs": [],
   "source": [
    "flag = 'train'\n",
    "_, dataloader = exp._get_data(flag)\n",
    "attr = batch_compute_attr(dataloader, exp, explainer)"
   ]
  },
  {
   "cell_type": "code",
   "execution_count": 77,
   "metadata": {},
   "outputs": [
    {
     "name": "stderr",
     "output_type": "stream",
     "text": [
      "100%|██████████| 48/48 [01:35<00:00,  1.99s/it]\n"
     ]
    }
   ],
   "source": []
  },
  {
   "cell_type": "code",
   "execution_count": 20,
   "metadata": {},
   "outputs": [
    {
     "data": {
      "text/html": [
       "<div>\n",
       "<style scoped>\n",
       "    .dataframe tbody tr th:only-of-type {\n",
       "        vertical-align: middle;\n",
       "    }\n",
       "\n",
       "    .dataframe tbody tr th {\n",
       "        vertical-align: top;\n",
       "    }\n",
       "\n",
       "    .dataframe thead th {\n",
       "        text-align: right;\n",
       "    }\n",
       "</style>\n",
       "<table border=\"1\" class=\"dataframe\">\n",
       "  <thead>\n",
       "    <tr style=\"text-align: right;\">\n",
       "      <th></th>\n",
       "      <th>Date</th>\n",
       "      <th>FIPS</th>\n",
       "    </tr>\n",
       "  </thead>\n",
       "  <tbody>\n",
       "    <tr>\n",
       "      <th>746</th>\n",
       "      <td>2020-03-01</td>\n",
       "      <td>2261</td>\n",
       "    </tr>\n",
       "    <tr>\n",
       "      <th>1782</th>\n",
       "      <td>2020-03-01</td>\n",
       "      <td>4013</td>\n",
       "    </tr>\n",
       "    <tr>\n",
       "      <th>2818</th>\n",
       "      <td>2020-03-01</td>\n",
       "      <td>6037</td>\n",
       "    </tr>\n",
       "  </tbody>\n",
       "</table>\n",
       "</div>"
      ],
      "text/plain": [
       "           Date  FIPS\n",
       "746  2020-03-01  2261\n",
       "1782 2020-03-01  4013\n",
       "2818 2020-03-01  6037"
      ]
     },
     "execution_count": 20,
     "metadata": {},
     "output_type": "execute_result"
    }
   ],
   "source": [
    "df = exp.data_map[flag]\n",
    "df = df[['Date', 'FIPS']]\n",
    "df.sort_values(by=['Date', 'FIPS'], inplace=True)\n",
    "df.head(3)"
   ]
  },
  {
   "cell_type": "code",
   "execution_count": null,
   "metadata": {},
   "outputs": [],
   "source": [
    "attr_numpy = attr.detach().cpu().numpy()\n",
    "np.save(os.path.join(exp.output_folder, f'{flag}_{explainer.get_name()}.npy'), attr_numpy)\n",
    "\n",
    "# align importance along their time axis with the input data\n",
    "features = exp.age_data.static_reals + exp.age_data.observed_reals\n",
    "\n",
    "group_agg_scores_df = align_interpretation(\n",
    "    df, attr_numpy, features\n",
    ")\n",
    "print(group_agg_scores_df.describe())"
   ]
  },
  {
   "cell_type": "code",
   "execution_count": 68,
   "metadata": {},
   "outputs": [
    {
     "name": "stdout",
     "output_type": "stream",
     "text": [
      "Common static features ['AGE1829', 'AGE3039', 'AGE4049', 'AGE75PLUS', 'AGE5064', 'UNDER5', 'AGE517', 'AGE6574']\n"
     ]
    }
   ],
   "source": [
    "common_features = list(set(features) & set(exp.age_data.static_reals))\n",
    "print(f'Common static features {common_features}')\n",
    "if len(common_features) == 0:\n",
    "    print('Ground truth available only for age group features.\\nReturning...\\n')\n",
    "    raise"
   ]
  },
  {
   "cell_type": "code",
   "execution_count": 69,
   "metadata": {},
   "outputs": [
    {
     "name": "stdout",
     "output_type": "stream",
     "text": [
      "Found first common date 2020-03-21T00:00:00.000000000.\n"
     ]
    }
   ],
   "source": [
    "# Load ground truth\n",
    "group_cases = pd.read_csv(\n",
    "    os.path.join(FeatureFiles.root_folder, 'Cases by age groups.csv')\n",
    ")\n",
    "group_cases['end_of_week'] = pd.to_datetime(group_cases['end_of_week'])\n",
    "\n",
    "# find a common start point\n",
    "first_common_date = find_first_common_date(\n",
    "    group_cases, group_agg_scores_df['Date'].values\n",
    ")"
   ]
  },
  {
   "cell_type": "code",
   "execution_count": 74,
   "metadata": {},
   "outputs": [
    {
     "name": "stdout",
     "output_type": "stream",
     "text": [
      "\n",
      "        Rank mae: 0.29319, rmse: 0.37306, ndcg: 0.8857\n",
      "\n",
      "        Normalized mae: 0.061193, rmse: 0.071974, ndcg: 0.81659\n",
      "    \n"
     ]
    }
   ],
   "source": [
    "# since age group ground truth is weekly aggregated\n",
    "# do the same for predicted importance\n",
    "weekly_agg_scores_df = aggregate_importance_by_window(\n",
    "    group_agg_scores_df, common_features, first_common_date\n",
    ")\n",
    "result_df = evaluate_interpretation(\n",
    "    group_cases, weekly_agg_scores_df, common_features\n",
    ")\n",
    "result_df.to_csv(\n",
    "    os.path.join(exp.output_folder, f'{flag}_int_metrics.csv'), \n",
    "    index=False\n",
    ")"
   ]
  }
 ],
 "metadata": {
  "kernelspec": {
   "display_name": "Python 3",
   "language": "python",
   "name": "python3"
  },
  "language_info": {
   "codemirror_mode": {
    "name": "ipython",
    "version": 3
   },
   "file_extension": ".py",
   "mimetype": "text/x-python",
   "name": "python",
   "nbconvert_exporter": "python",
   "pygments_lexer": "ipython3",
   "version": "3.10.11"
  },
  "orig_nbformat": 4
 },
 "nbformat": 4,
 "nbformat_minor": 2
}
