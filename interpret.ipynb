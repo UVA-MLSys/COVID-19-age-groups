{
 "cells": [
  {
   "cell_type": "markdown",
   "metadata": {},
   "source": [
    "# Import"
   ]
  },
  {
   "cell_type": "code",
   "execution_count": 3,
   "metadata": {},
   "outputs": [],
   "source": [
    "from run import *\n",
    "from tint.metrics import mse, mae\n",
    "import tint, gc, os\n",
    "from tqdm import tqdm\n",
    "import pandas as pd\n",
    "from exp.config import FeatureFiles\n",
    "from utils.interpreter import *\n",
    "\n",
    "from tint.attr import (\n",
    "    AugmentedOcclusion,\n",
    "    DynaMask,\n",
    "    Occlusion, \n",
    "    FeatureAblation\n",
    ")"
   ]
  },
  {
   "cell_type": "markdown",
   "metadata": {},
   "source": [
    "# Arguments"
   ]
  },
  {
   "cell_type": "code",
   "execution_count": 4,
   "metadata": {},
   "outputs": [],
   "source": [
    "parser = get_parser()\n",
    "argv = \"\"\"\n",
    "  --model Autoformer --use_gpu --result_path scratch --data_path Top_20.csv\n",
    "\"\"\".split()\n",
    "args = parser.parse_args(argv)\n",
    "\n",
    "args.n_features = len(set(DataConfig.static_reals+DataConfig.observed_reals+DataConfig.targets))\n",
    "args.enc_in = args.dec_in = args.c_out = args.n_features\n",
    "args.n_targets = len(DataConfig.targets)"
   ]
  },
  {
   "cell_type": "markdown",
   "metadata": {},
   "source": [
    "# Experiment "
   ]
  },
  {
   "cell_type": "code",
   "execution_count": 5,
   "metadata": {},
   "outputs": [],
   "source": [
    "set_random_seed(args.seed)\n",
    "# Disable cudnn if using cuda accelerator.\n",
    "# Please see https://captum.ai/docs/faq#how-can-i-resolve-cudnn-rnn-backward-error-for-rnn-or-lstm-network\n",
    "# args.use_gpu = False\n",
    "\n",
    "Exp = Exp_Forecast\n",
    "\n",
    "setting = stringify_setting(args)"
   ]
  },
  {
   "cell_type": "code",
   "execution_count": 6,
   "metadata": {},
   "outputs": [
    {
     "name": "stdout",
     "output_type": "stream",
     "text": [
      "Starting experiment. Result folder scratch\\Autoformer_Top_20.\n",
      "Use GPU: cuda:0\n",
      "adding time index columns TimeFromStart\n",
      "added time encoded known reals ['month', 'day', 'weekday'].\n",
      "\n",
      "Train samples 12740, validation samples 560, test samples 560\n",
      "637 days of training, 14 days of validation data, 14 days of test data.\n",
      "\n",
      "Fitting scalers on train data\n",
      "Loading dataset from ./dataset/processed\\Top_20\\train.pt\n",
      "Loading dataset from ./dataset/processed\\Top_20\\val.pt\n",
      "Loading dataset from ./dataset/processed\\Top_20\\test.pt\n",
      "loading best model from scratch\\Autoformer_Top_20\\checkpoint.pth\n"
     ]
    }
   ],
   "source": [
    "exp = Exp(args, setting)  # set experiments\n",
    "exp.load_model()\n",
    "result_folder = exp.output_folder\n",
    "model = exp.model.eval()"
   ]
  },
  {
   "cell_type": "code",
   "execution_count": 8,
   "metadata": {},
   "outputs": [],
   "source": [
    "# align importance along their time axis with the input data\n",
    "features = exp.age_data.static_reals + exp.age_data.observed_reals\n",
    "age_features = DataConfig.static_reals"
   ]
  },
  {
   "cell_type": "markdown",
   "metadata": {},
   "source": [
    "# Interpret"
   ]
  },
  {
   "cell_type": "markdown",
   "metadata": {},
   "source": [
    "## Calculate Attribute"
   ]
  },
  {
   "cell_type": "code",
   "execution_count": 125,
   "metadata": {},
   "outputs": [],
   "source": [
    "flag = 'test'\n",
    "dataset, dataloader = exp._get_data(flag)"
   ]
  },
  {
   "cell_type": "code",
   "execution_count": 111,
   "metadata": {},
   "outputs": [],
   "source": [
    "# from explainers import MorrisSensitivty\n",
    "\n",
    "# def get_all_inputs(dataloader:torch.utils.data.dataloader.DataLoader):\n",
    "#     data = [batch[0] for batch in dataloader]\n",
    "#     return torch.vstack(data)\n",
    "\n",
    "# data = get_all_inputs(dataloader)\n",
    "# explainer = MorrisSensitivty(model, data, args.pred_len)\n",
    "# attr = batch_compute_attr(dataloader, exp, explainer)"
   ]
  },
  {
   "cell_type": "code",
   "execution_count": 126,
   "metadata": {},
   "outputs": [
    {
     "name": "stderr",
     "output_type": "stream",
     "text": [
      "100%|██████████| 1/1 [00:01<00:00,  1.18s/it]\n"
     ]
    }
   ],
   "source": [
    "explainer = FeatureAblation(model)\n",
    "attr = batch_compute_attr(dataloader, exp, explainer)"
   ]
  },
  {
   "cell_type": "code",
   "execution_count": 127,
   "metadata": {},
   "outputs": [
    {
     "data": {
      "text/html": [
       "<div>\n",
       "<style scoped>\n",
       "    .dataframe tbody tr th:only-of-type {\n",
       "        vertical-align: middle;\n",
       "    }\n",
       "\n",
       "    .dataframe tbody tr th {\n",
       "        vertical-align: top;\n",
       "    }\n",
       "\n",
       "    .dataframe thead th {\n",
       "        text-align: right;\n",
       "    }\n",
       "</style>\n",
       "<table border=\"1\" class=\"dataframe\">\n",
       "  <thead>\n",
       "    <tr style=\"text-align: right;\">\n",
       "      <th></th>\n",
       "      <th>Date</th>\n",
       "      <th>FIPS</th>\n",
       "      <th>UNDER5</th>\n",
       "      <th>AGE517</th>\n",
       "      <th>AGE1829</th>\n",
       "      <th>AGE3039</th>\n",
       "      <th>AGE4049</th>\n",
       "      <th>AGE5064</th>\n",
       "      <th>AGE6574</th>\n",
       "      <th>AGE75PLUS</th>\n",
       "      <th>VaccinationFull</th>\n",
       "      <th>Cases</th>\n",
       "      <th>month</th>\n",
       "      <th>day</th>\n",
       "      <th>weekday</th>\n",
       "      <th>TimeFromStart</th>\n",
       "    </tr>\n",
       "  </thead>\n",
       "  <tbody>\n",
       "    <tr>\n",
       "      <th>350</th>\n",
       "      <td>2021-11-28</td>\n",
       "      <td>2261</td>\n",
       "      <td>0.0062</td>\n",
       "      <td>0.0160</td>\n",
       "      <td>0.0140</td>\n",
       "      <td>0.0146</td>\n",
       "      <td>0.0117</td>\n",
       "      <td>0.0235</td>\n",
       "      <td>0.0103</td>\n",
       "      <td>0.0004</td>\n",
       "      <td>54.1</td>\n",
       "      <td>1.0</td>\n",
       "      <td>11</td>\n",
       "      <td>28</td>\n",
       "      <td>6</td>\n",
       "      <td>637</td>\n",
       "    </tr>\n",
       "    <tr>\n",
       "      <th>1386</th>\n",
       "      <td>2021-11-28</td>\n",
       "      <td>4013</td>\n",
       "      <td>0.0601</td>\n",
       "      <td>0.1717</td>\n",
       "      <td>0.1678</td>\n",
       "      <td>0.1392</td>\n",
       "      <td>0.1254</td>\n",
       "      <td>0.1771</td>\n",
       "      <td>0.0912</td>\n",
       "      <td>0.0675</td>\n",
       "      <td>51.3</td>\n",
       "      <td>0.0</td>\n",
       "      <td>11</td>\n",
       "      <td>28</td>\n",
       "      <td>6</td>\n",
       "      <td>637</td>\n",
       "    </tr>\n",
       "    <tr>\n",
       "      <th>2422</th>\n",
       "      <td>2021-11-28</td>\n",
       "      <td>6037</td>\n",
       "      <td>0.0560</td>\n",
       "      <td>0.1558</td>\n",
       "      <td>0.1738</td>\n",
       "      <td>0.1525</td>\n",
       "      <td>0.1311</td>\n",
       "      <td>0.1865</td>\n",
       "      <td>0.0826</td>\n",
       "      <td>0.0617</td>\n",
       "      <td>63.7</td>\n",
       "      <td>1225.0</td>\n",
       "      <td>11</td>\n",
       "      <td>28</td>\n",
       "      <td>6</td>\n",
       "      <td>637</td>\n",
       "    </tr>\n",
       "  </tbody>\n",
       "</table>\n",
       "</div>"
      ],
      "text/plain": [
       "           Date  FIPS  UNDER5  AGE517  AGE1829  AGE3039  AGE4049  AGE5064  \\\n",
       "350  2021-11-28  2261  0.0062  0.0160   0.0140   0.0146   0.0117   0.0235   \n",
       "1386 2021-11-28  4013  0.0601  0.1717   0.1678   0.1392   0.1254   0.1771   \n",
       "2422 2021-11-28  6037  0.0560  0.1558   0.1738   0.1525   0.1311   0.1865   \n",
       "\n",
       "      AGE6574  AGE75PLUS  VaccinationFull   Cases  month  day  weekday  \\\n",
       "350    0.0103     0.0004             54.1     1.0     11   28        6   \n",
       "1386   0.0912     0.0675             51.3     0.0     11   28        6   \n",
       "2422   0.0826     0.0617             63.7  1225.0     11   28        6   \n",
       "\n",
       "      TimeFromStart  \n",
       "350             637  \n",
       "1386            637  \n",
       "2422            637  "
      ]
     },
     "execution_count": 127,
     "metadata": {},
     "output_type": "execute_result"
    }
   ],
   "source": [
    "df = exp.data_map[flag]\n",
    "df.sort_values(by=['Date', 'FIPS'], inplace=True)\n",
    "df.head(3)"
   ]
  },
  {
   "cell_type": "markdown",
   "metadata": {},
   "source": [
    "## Get ground truth"
   ]
  },
  {
   "cell_type": "code",
   "execution_count": 108,
   "metadata": {},
   "outputs": [],
   "source": [
    "# Load ground truth\n",
    "group_cases = pd.read_csv(\n",
    "    os.path.join(FeatureFiles.root_folder, 'Cases by age groups.csv')\n",
    ")\n",
    "group_cases['end_of_week'] = pd.to_datetime(group_cases['end_of_week'])\n",
    "\n",
    "population = pd.read_csv('dataset/raw/Population.csv')\n",
    "population = population[['FIPS', 'POPESTIMATE']]"
   ]
  },
  {
   "cell_type": "markdown",
   "metadata": {},
   "source": [
    "## Aggregate"
   ]
  },
  {
   "cell_type": "code",
   "execution_count": 128,
   "metadata": {},
   "outputs": [
    {
     "name": "stdout",
     "output_type": "stream",
     "text": [
      "2021-12-12 00:00:00 2021-12-25 00:00:00\n",
      "               FIPS      UNDER5      AGE517     AGE1829     AGE3039  \\\n",
      "count    280.000000  280.000000  280.000000  280.000000  280.000000   \n",
      "mean   22995.050000    0.065495    0.069544    0.062922    0.068926   \n",
      "std    18281.790462    0.042149    0.049840    0.045401    0.054660   \n",
      "min     2261.000000    0.000188    0.000120    0.000243    0.000180   \n",
      "25%     6069.500000    0.031076    0.030981    0.030946    0.030950   \n",
      "50%    14558.500000    0.063317    0.067861    0.055310    0.056428   \n",
      "75%    39068.000000    0.090895    0.095310    0.085310    0.094058   \n",
      "max    53033.000000    0.201835    0.258352    0.284300    0.277420   \n",
      "\n",
      "          AGE4049     AGE5064     AGE6574   AGE75PLUS  VaccinationFull  \\\n",
      "count  280.000000  280.000000  280.000000  280.000000       280.000000   \n",
      "mean     0.067515    0.086001    0.060666    0.075937         0.119456   \n",
      "std      0.044248    0.065430    0.040402    0.060236         0.079675   \n",
      "min      0.000148    0.000910    0.000682    0.000527         0.000289   \n",
      "25%      0.037100    0.038215    0.033295    0.030231         0.055290   \n",
      "50%      0.063113    0.072505    0.051207    0.061211         0.116035   \n",
      "75%      0.092978    0.111204    0.081931    0.109325         0.158465   \n",
      "max      0.269991    0.317743    0.237797    0.463670         0.445536   \n",
      "\n",
      "            Cases  \n",
      "count  280.000000  \n",
      "mean     0.323537  \n",
      "std      0.219807  \n",
      "min      0.001135  \n",
      "25%      0.151391  \n",
      "50%      0.292367  \n",
      "75%      0.441939  \n",
      "max      0.933865  \n"
     ]
    }
   ],
   "source": [
    "attr_numpy = attr.detach().cpu().numpy()\n",
    "# np.save(os.path.join(exp.output_folder, f'{flag}_{explainer.get_name()}.npy'), attr_numpy)\n",
    "# taking absolute since we want the magnitude of feature importance only\n",
    "attr_numpy  = np.abs(attr_numpy)\n",
    "\n",
    "attr_df = align_interpretation(\n",
    "    ranges=dataset.ranges,\n",
    "    attr=attr_numpy,\n",
    "    features=features,\n",
    "    min_date=df['Date'].min(),\n",
    "    seq_len=args.seq_len, pred_len=args.pred_len\n",
    ")\n",
    "print(attr_df.describe())"
   ]
  },
  {
   "cell_type": "code",
   "execution_count": 129,
   "metadata": {},
   "outputs": [],
   "source": [
    "attr_by_date = attr_df.groupby('Date')[\n",
    "    age_features\n",
    "].aggregate('sum').reset_index()"
   ]
  },
  {
   "cell_type": "markdown",
   "metadata": {},
   "source": [
    "### Weighted"
   ]
  },
  {
   "cell_type": "code",
   "execution_count": 130,
   "metadata": {},
   "outputs": [],
   "source": [
    "weights = df.groupby('FIPS').first()[age_features].reset_index()\n",
    "groups = []\n",
    "\n",
    "for FIPS, group_df in attr_df.groupby('FIPS'):\n",
    "    county_age_weights = weights[weights['FIPS']==FIPS][age_features].values\n",
    "    total_population = population[\n",
    "        population['FIPS']==FIPS]['POPESTIMATE'].values[0]\n",
    "    group_df[age_features] *= county_age_weights * total_population\n",
    "    # group_df[age_features] *= total_population\n",
    "    groups.append(group_df)\n",
    "    \n",
    "groups = pd.concat(groups, axis=0)\n",
    "weighted_attr_df = groups[['FIPS', 'Date']+age_features].reset_index(drop=True)\n",
    "\n",
    "weighted_attr_by_date = weighted_attr_df.groupby('Date')[\n",
    "    age_features].aggregate('sum').reset_index()"
   ]
  },
  {
   "cell_type": "markdown",
   "metadata": {},
   "source": [
    "## Evaluate globally"
   ]
  },
  {
   "cell_type": "code",
   "execution_count": 131,
   "metadata": {},
   "outputs": [
    {
     "name": "stdout",
     "output_type": "stream",
     "text": [
      "Found first common date 2021-12-18T00:00:00.000000000.\n",
      "Found last common date 2021-12-25T00:00:00.000000000.\n"
     ]
    },
    {
     "data": {
      "text/html": [
       "<div>\n",
       "<style scoped>\n",
       "    .dataframe tbody tr th:only-of-type {\n",
       "        vertical-align: middle;\n",
       "    }\n",
       "\n",
       "    .dataframe tbody tr th {\n",
       "        vertical-align: top;\n",
       "    }\n",
       "\n",
       "    .dataframe thead th {\n",
       "        text-align: right;\n",
       "    }\n",
       "</style>\n",
       "<table border=\"1\" class=\"dataframe\">\n",
       "  <thead>\n",
       "    <tr style=\"text-align: right;\">\n",
       "      <th></th>\n",
       "      <th>age_group</th>\n",
       "      <th>cases</th>\n",
       "    </tr>\n",
       "  </thead>\n",
       "  <tbody>\n",
       "    <tr>\n",
       "      <th>0</th>\n",
       "      <td>UNDER5</td>\n",
       "      <td>49827.0</td>\n",
       "    </tr>\n",
       "    <tr>\n",
       "      <th>1</th>\n",
       "      <td>AGE517</td>\n",
       "      <td>202210.0</td>\n",
       "    </tr>\n",
       "    <tr>\n",
       "      <th>2</th>\n",
       "      <td>AGE1829</td>\n",
       "      <td>343324.0</td>\n",
       "    </tr>\n",
       "    <tr>\n",
       "      <th>3</th>\n",
       "      <td>AGE3039</td>\n",
       "      <td>269842.0</td>\n",
       "    </tr>\n",
       "    <tr>\n",
       "      <th>4</th>\n",
       "      <td>AGE4049</td>\n",
       "      <td>196863.5</td>\n",
       "    </tr>\n",
       "    <tr>\n",
       "      <th>5</th>\n",
       "      <td>AGE5064</td>\n",
       "      <td>221850.5</td>\n",
       "    </tr>\n",
       "    <tr>\n",
       "      <th>6</th>\n",
       "      <td>AGE6574</td>\n",
       "      <td>70745.0</td>\n",
       "    </tr>\n",
       "    <tr>\n",
       "      <th>7</th>\n",
       "      <td>AGE75PLUS</td>\n",
       "      <td>41543.0</td>\n",
       "    </tr>\n",
       "  </tbody>\n",
       "</table>\n",
       "</div>"
      ],
      "text/plain": [
       "   age_group     cases\n",
       "0     UNDER5   49827.0\n",
       "1     AGE517  202210.0\n",
       "2    AGE1829  343324.0\n",
       "3    AGE3039  269842.0\n",
       "4    AGE4049  196863.5\n",
       "5    AGE5064  221850.5\n",
       "6    AGE6574   70745.0\n",
       "7  AGE75PLUS   41543.0"
      ]
     },
     "execution_count": 131,
     "metadata": {},
     "output_type": "execute_result"
    }
   ],
   "source": [
    "dates = attr_by_date['Date'].values\n",
    "first_common_date = find_first_common_date(group_cases, dates)\n",
    "last_common_date = find_last_common_date(group_cases, dates)\n",
    "\n",
    "summed_ground_truth = group_cases[\n",
    "    (group_cases['end_of_week']>=first_common_date) &\n",
    "    (group_cases['end_of_week']<=last_common_date)\n",
    "][age_features].mean(axis=0).T.reset_index()\n",
    "summed_ground_truth.columns = ['age_group', 'cases']\n",
    "summed_ground_truth"
   ]
  },
  {
   "cell_type": "markdown",
   "metadata": {},
   "source": [
    "### Unweighted"
   ]
  },
  {
   "cell_type": "code",
   "execution_count": 132,
   "metadata": {},
   "outputs": [
    {
     "data": {
      "text/html": [
       "<div>\n",
       "<style scoped>\n",
       "    .dataframe tbody tr th:only-of-type {\n",
       "        vertical-align: middle;\n",
       "    }\n",
       "\n",
       "    .dataframe tbody tr th {\n",
       "        vertical-align: top;\n",
       "    }\n",
       "\n",
       "    .dataframe thead th {\n",
       "        text-align: right;\n",
       "    }\n",
       "</style>\n",
       "<table border=\"1\" class=\"dataframe\">\n",
       "  <thead>\n",
       "    <tr style=\"text-align: right;\">\n",
       "      <th></th>\n",
       "      <th>age_group</th>\n",
       "      <th>attr</th>\n",
       "    </tr>\n",
       "  </thead>\n",
       "  <tbody>\n",
       "    <tr>\n",
       "      <th>0</th>\n",
       "      <td>UNDER5</td>\n",
       "      <td>0.065495</td>\n",
       "    </tr>\n",
       "    <tr>\n",
       "      <th>1</th>\n",
       "      <td>AGE517</td>\n",
       "      <td>0.069544</td>\n",
       "    </tr>\n",
       "    <tr>\n",
       "      <th>2</th>\n",
       "      <td>AGE1829</td>\n",
       "      <td>0.062922</td>\n",
       "    </tr>\n",
       "    <tr>\n",
       "      <th>3</th>\n",
       "      <td>AGE3039</td>\n",
       "      <td>0.068926</td>\n",
       "    </tr>\n",
       "    <tr>\n",
       "      <th>4</th>\n",
       "      <td>AGE4049</td>\n",
       "      <td>0.067515</td>\n",
       "    </tr>\n",
       "    <tr>\n",
       "      <th>5</th>\n",
       "      <td>AGE5064</td>\n",
       "      <td>0.086001</td>\n",
       "    </tr>\n",
       "    <tr>\n",
       "      <th>6</th>\n",
       "      <td>AGE6574</td>\n",
       "      <td>0.060666</td>\n",
       "    </tr>\n",
       "    <tr>\n",
       "      <th>7</th>\n",
       "      <td>AGE75PLUS</td>\n",
       "      <td>0.075937</td>\n",
       "    </tr>\n",
       "  </tbody>\n",
       "</table>\n",
       "</div>"
      ],
      "text/plain": [
       "   age_group      attr\n",
       "0     UNDER5  0.065495\n",
       "1     AGE517  0.069544\n",
       "2    AGE1829  0.062922\n",
       "3    AGE3039  0.068926\n",
       "4    AGE4049  0.067515\n",
       "5    AGE5064  0.086001\n",
       "6    AGE6574  0.060666\n",
       "7  AGE75PLUS  0.075937"
      ]
     },
     "execution_count": 132,
     "metadata": {},
     "output_type": "execute_result"
    }
   ],
   "source": [
    "summed_attr = attr_df[\n",
    "    (attr_df['Date']>=(first_common_date-pd.to_timedelta(6, unit='D'))) &\n",
    "    (attr_df['Date']<=last_common_date)\n",
    "][age_features].mean(axis=0).T.reset_index()\n",
    "summed_attr.columns = ['age_group', 'attr']\n",
    "summed_attr"
   ]
  },
  {
   "cell_type": "code",
   "execution_count": 133,
   "metadata": {},
   "outputs": [
    {
     "data": {
      "text/html": [
       "<div>\n",
       "<style scoped>\n",
       "    .dataframe tbody tr th:only-of-type {\n",
       "        vertical-align: middle;\n",
       "    }\n",
       "\n",
       "    .dataframe tbody tr th {\n",
       "        vertical-align: top;\n",
       "    }\n",
       "\n",
       "    .dataframe thead th {\n",
       "        text-align: right;\n",
       "    }\n",
       "</style>\n",
       "<table border=\"1\" class=\"dataframe\">\n",
       "  <thead>\n",
       "    <tr style=\"text-align: right;\">\n",
       "      <th></th>\n",
       "      <th>age_group</th>\n",
       "      <th>cases</th>\n",
       "      <th>attr</th>\n",
       "    </tr>\n",
       "  </thead>\n",
       "  <tbody>\n",
       "    <tr>\n",
       "      <th>0</th>\n",
       "      <td>UNDER5</td>\n",
       "      <td>3.568745</td>\n",
       "      <td>11.758368</td>\n",
       "    </tr>\n",
       "    <tr>\n",
       "      <th>1</th>\n",
       "      <td>AGE517</td>\n",
       "      <td>14.482830</td>\n",
       "      <td>12.485377</td>\n",
       "    </tr>\n",
       "    <tr>\n",
       "      <th>2</th>\n",
       "      <td>AGE1829</td>\n",
       "      <td>24.589799</td>\n",
       "      <td>11.296468</td>\n",
       "    </tr>\n",
       "    <tr>\n",
       "      <th>3</th>\n",
       "      <td>AGE3039</td>\n",
       "      <td>19.326818</td>\n",
       "      <td>12.374293</td>\n",
       "    </tr>\n",
       "    <tr>\n",
       "      <th>4</th>\n",
       "      <td>AGE4049</td>\n",
       "      <td>14.099899</td>\n",
       "      <td>12.121077</td>\n",
       "    </tr>\n",
       "    <tr>\n",
       "      <th>5</th>\n",
       "      <td>AGE5064</td>\n",
       "      <td>15.889536</td>\n",
       "      <td>15.439819</td>\n",
       "    </tr>\n",
       "    <tr>\n",
       "      <th>6</th>\n",
       "      <td>AGE6574</td>\n",
       "      <td>5.066949</td>\n",
       "      <td>10.891472</td>\n",
       "    </tr>\n",
       "    <tr>\n",
       "      <th>7</th>\n",
       "      <td>AGE75PLUS</td>\n",
       "      <td>2.975423</td>\n",
       "      <td>13.633129</td>\n",
       "    </tr>\n",
       "  </tbody>\n",
       "</table>\n",
       "</div>"
      ],
      "text/plain": [
       "   age_group      cases       attr\n",
       "0     UNDER5   3.568745  11.758368\n",
       "1     AGE517  14.482830  12.485377\n",
       "2    AGE1829  24.589799  11.296468\n",
       "3    AGE3039  19.326818  12.374293\n",
       "4    AGE4049  14.099899  12.121077\n",
       "5    AGE5064  15.889536  15.439819\n",
       "6    AGE6574   5.066949  10.891472\n",
       "7  AGE75PLUS   2.975423  13.633129"
      ]
     },
     "execution_count": 133,
     "metadata": {},
     "output_type": "execute_result"
    }
   ],
   "source": [
    "merged = summed_ground_truth.merge(\n",
    "    summed_attr, on='age_group', how='inner'\n",
    ") \n",
    "merged[['cases', 'attr']] = merged[['cases', 'attr']].div(merged[['cases', 'attr']].sum(axis=0)/100, axis=1)\n",
    "merged"
   ]
  },
  {
   "cell_type": "markdown",
   "metadata": {},
   "source": [
    "### Weighted"
   ]
  },
  {
   "cell_type": "code",
   "execution_count": 134,
   "metadata": {},
   "outputs": [
    {
     "data": {
      "text/html": [
       "<div>\n",
       "<style scoped>\n",
       "    .dataframe tbody tr th:only-of-type {\n",
       "        vertical-align: middle;\n",
       "    }\n",
       "\n",
       "    .dataframe tbody tr th {\n",
       "        vertical-align: top;\n",
       "    }\n",
       "\n",
       "    .dataframe thead th {\n",
       "        text-align: right;\n",
       "    }\n",
       "</style>\n",
       "<table border=\"1\" class=\"dataframe\">\n",
       "  <thead>\n",
       "    <tr style=\"text-align: right;\">\n",
       "      <th></th>\n",
       "      <th>age_group</th>\n",
       "      <th>attr</th>\n",
       "    </tr>\n",
       "  </thead>\n",
       "  <tbody>\n",
       "    <tr>\n",
       "      <th>0</th>\n",
       "      <td>UNDER5</td>\n",
       "      <td>14448.383363</td>\n",
       "    </tr>\n",
       "    <tr>\n",
       "      <th>1</th>\n",
       "      <td>AGE517</td>\n",
       "      <td>36690.836517</td>\n",
       "    </tr>\n",
       "    <tr>\n",
       "      <th>2</th>\n",
       "      <td>AGE1829</td>\n",
       "      <td>33880.776863</td>\n",
       "    </tr>\n",
       "    <tr>\n",
       "      <th>3</th>\n",
       "      <td>AGE3039</td>\n",
       "      <td>36642.269908</td>\n",
       "    </tr>\n",
       "    <tr>\n",
       "      <th>4</th>\n",
       "      <td>AGE4049</td>\n",
       "      <td>27780.851757</td>\n",
       "    </tr>\n",
       "    <tr>\n",
       "      <th>5</th>\n",
       "      <td>AGE5064</td>\n",
       "      <td>50591.372789</td>\n",
       "    </tr>\n",
       "    <tr>\n",
       "      <th>6</th>\n",
       "      <td>AGE6574</td>\n",
       "      <td>18890.060892</td>\n",
       "    </tr>\n",
       "    <tr>\n",
       "      <th>7</th>\n",
       "      <td>AGE75PLUS</td>\n",
       "      <td>13519.295254</td>\n",
       "    </tr>\n",
       "  </tbody>\n",
       "</table>\n",
       "</div>"
      ],
      "text/plain": [
       "   age_group          attr\n",
       "0     UNDER5  14448.383363\n",
       "1     AGE517  36690.836517\n",
       "2    AGE1829  33880.776863\n",
       "3    AGE3039  36642.269908\n",
       "4    AGE4049  27780.851757\n",
       "5    AGE5064  50591.372789\n",
       "6    AGE6574  18890.060892\n",
       "7  AGE75PLUS  13519.295254"
      ]
     },
     "execution_count": 134,
     "metadata": {},
     "output_type": "execute_result"
    }
   ],
   "source": [
    "summed_weighted_attr = weighted_attr_df[\n",
    "    (weighted_attr_df['Date']>=(first_common_date-pd.to_timedelta(6, unit='D'))) &\n",
    "    (weighted_attr_df['Date']<=last_common_date)\n",
    "][age_features].mean(axis=0).T.reset_index()\n",
    "summed_weighted_attr.columns = ['age_group', 'attr']\n",
    "summed_weighted_attr"
   ]
  },
  {
   "cell_type": "code",
   "execution_count": 135,
   "metadata": {},
   "outputs": [
    {
     "name": "stdout",
     "output_type": "stream",
     "text": [
      "   age_group      cases       attr  cases_rank  attr_rank\n",
      "0     UNDER5   3.568745   6.215860         7.0        7.0\n",
      "1     AGE517  14.482830  15.784817         4.0        2.0\n",
      "2    AGE1829  24.589799  14.575897         1.0        4.0\n",
      "3    AGE3039  19.326818  15.763923         2.0        3.0\n",
      "4    AGE4049  14.099899  11.951640         5.0        5.0\n",
      "5    AGE5064  15.889536  21.764987         3.0        1.0\n",
      "6    AGE6574   5.066949   8.126720         6.0        6.0\n",
      "7  AGE75PLUS   2.975423   5.816155         8.0        8.0\n"
     ]
    }
   ],
   "source": [
    "global_rank = summed_ground_truth.merge(\n",
    "    summed_weighted_attr, on='age_group', how='inner'\n",
    ") \n",
    "global_rank[['cases', 'attr']] = global_rank[['cases', 'attr']].div(\n",
    "    global_rank[['cases', 'attr']].sum(axis=0)/100, axis=1)\n",
    "\n",
    "global_rank['cases_rank'] = global_rank['cases'].rank(\n",
    "    axis=0, ascending=False\n",
    ")\n",
    "global_rank['attr_rank'] = global_rank['attr'].rank(\n",
    "    axis=0, ascending=False\n",
    ")\n",
    "print(global_rank)"
   ]
  },
  {
   "cell_type": "code",
   "execution_count": 122,
   "metadata": {},
   "outputs": [],
   "source": [
    "global_rank.to_csv(\n",
    "    os.path.join(\n",
    "        exp.output_folder, \n",
    "        f'{flag}_global_rank_{explainer.get_name()}.csv'\n",
    "    ), \n",
    "    index=False\n",
    ")"
   ]
  },
  {
   "cell_type": "markdown",
   "metadata": {},
   "source": [
    "## Evaluate Local Interpretation"
   ]
  },
  {
   "cell_type": "markdown",
   "metadata": {},
   "source": [
    "### Unweighted"
   ]
  },
  {
   "cell_type": "code",
   "execution_count": 136,
   "metadata": {},
   "outputs": [
    {
     "name": "stdout",
     "output_type": "stream",
     "text": [
      "Found first common date 2021-12-18T00:00:00.000000000.\n",
      "Rank mae: 0.32812, rmse: 0.4239, ndcg: 0.82107\n",
      "Normalized mae: 0.061398, rmse: 0.074441, ndcg: 0.82411\n"
     ]
    }
   ],
   "source": [
    "# find a common start point\n",
    "first_common_date = find_first_common_date(\n",
    "    group_cases, attr_by_date['Date'].values\n",
    ")\n",
    "# since age group ground truth is weekly aggregated\n",
    "# do the same for predicted importance\n",
    "weekly_agg_scores = aggregate_importance_by_window(\n",
    "    attr_by_date, age_features, first_common_date\n",
    ")\n",
    "result_df = evaluate_interpretation(\n",
    "    group_cases, weekly_agg_scores, age_features\n",
    ")"
   ]
  },
  {
   "cell_type": "markdown",
   "metadata": {},
   "source": [
    "### Weighted"
   ]
  },
  {
   "cell_type": "code",
   "execution_count": 137,
   "metadata": {},
   "outputs": [
    {
     "name": "stdout",
     "output_type": "stream",
     "text": [
      "Found first common date 2021-12-18T00:00:00.000000000.\n",
      "Rank mae: 0.125, rmse: 0.1875, ndcg: 0.98915\n",
      "Normalized mae: 0.039509, rmse: 0.047049, ndcg: 0.9155\n"
     ]
    }
   ],
   "source": [
    "# find a common start point\n",
    "first_common_date = find_first_common_date(\n",
    "    group_cases, weighted_attr_by_date['Date'].values\n",
    ")\n",
    "# since age group ground truth is weekly aggregated\n",
    "# do the same for predicted importance\n",
    "weekly_agg_scores_df = aggregate_importance_by_window(\n",
    "    weighted_attr_by_date, age_features, first_common_date\n",
    ")\n",
    "result_df = evaluate_interpretation(\n",
    "    group_cases, weekly_agg_scores_df, age_features\n",
    ")\n",
    "# result_df.to_csv(\n",
    "#     os.path.join(\n",
    "#         exp.output_folder, \n",
    "#         f'{flag}_int_metrics_{explainer.get_name()}.csv'\n",
    "#     ), \n",
    "#     index=False\n",
    "# )"
   ]
  }
 ],
 "metadata": {
  "kernelspec": {
   "display_name": "Python 3",
   "language": "python",
   "name": "python3"
  },
  "language_info": {
   "codemirror_mode": {
    "name": "ipython",
    "version": 3
   },
   "file_extension": ".py",
   "mimetype": "text/x-python",
   "name": "python",
   "nbconvert_exporter": "python",
   "pygments_lexer": "ipython3",
   "version": "3.10.11"
  },
  "orig_nbformat": 4
 },
 "nbformat": 4,
 "nbformat_minor": 2
}
