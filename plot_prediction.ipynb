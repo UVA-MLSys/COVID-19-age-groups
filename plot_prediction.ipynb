{
 "cells": [
  {
   "cell_type": "code",
   "execution_count": 36,
   "metadata": {},
   "outputs": [],
   "source": [
    "import pandas as pd\n",
    "import os\n",
    "from utils.plotter import PlotResults\n",
    "from utils.utils import align_predictions\n",
    "from run import *"
   ]
  },
  {
   "cell_type": "code",
   "execution_count": 37,
   "metadata": {},
   "outputs": [],
   "source": [
    "argv = \"\"\"\n",
    "--result_path scratch\n",
    "--data_path Top_100.csv \n",
    "--model Transformer --test\n",
    "\"\"\".split()\n",
    "parser = get_parser()\n",
    "args = parser.parse_args(argv)\n",
    "initial_setup(args)"
   ]
  },
  {
   "cell_type": "code",
   "execution_count": 39,
   "metadata": {},
   "outputs": [
    {
     "name": "stdout",
     "output_type": "stream",
     "text": [
      "Use GPU: cuda:0\n",
      "\n",
      "Train samples 63700, validation samples 2800, test samples 2800\n",
      "637 days of training, 14 days of validation data, 14 days of test data.\n",
      "\n",
      "Fitting scalers on train data\n"
     ]
    }
   ],
   "source": [
    "setting = stringify_setting(args)\n",
    "exp = Exp_Forecast(args, setting)\n",
    "\n",
    "plotter = PlotResults(\n",
    "    exp.output_folder, DataConfig.targets\n",
    ")"
   ]
  },
  {
   "cell_type": "code",
   "execution_count": 47,
   "metadata": {},
   "outputs": [
    {
     "name": "stdout",
     "output_type": "stream",
     "text": [
      "Time encoded columns : ['month', 'day', 'weekday']\n",
      "Getting valid sampling locations.\n",
      "loading best model from scratch\\Transformer_Top_100_scale_True_mode_2\\checkpoint.pth\n",
      "Preds and Trues shape: (100, 14, 1) (100, 14, 1)\n"
     ]
    },
    {
     "data": {
      "text/html": [
       "<div>\n",
       "<style scoped>\n",
       "    .dataframe tbody tr th:only-of-type {\n",
       "        vertical-align: middle;\n",
       "    }\n",
       "\n",
       "    .dataframe tbody tr th {\n",
       "        vertical-align: top;\n",
       "    }\n",
       "\n",
       "    .dataframe thead th {\n",
       "        text-align: right;\n",
       "    }\n",
       "</style>\n",
       "<table border=\"1\" class=\"dataframe\">\n",
       "  <thead>\n",
       "    <tr style=\"text-align: right;\">\n",
       "      <th></th>\n",
       "      <th>Date</th>\n",
       "      <th>FIPS</th>\n",
       "      <th>TimeFromStart</th>\n",
       "      <th>Cases</th>\n",
       "      <th>Predicted_Cases</th>\n",
       "    </tr>\n",
       "  </thead>\n",
       "  <tbody>\n",
       "    <tr>\n",
       "      <th>0</th>\n",
       "      <td>2021-12-12</td>\n",
       "      <td>2261</td>\n",
       "      <td>651</td>\n",
       "      <td>0.0</td>\n",
       "      <td>94.498413</td>\n",
       "    </tr>\n",
       "    <tr>\n",
       "      <th>1</th>\n",
       "      <td>2021-12-13</td>\n",
       "      <td>2261</td>\n",
       "      <td>652</td>\n",
       "      <td>0.0</td>\n",
       "      <td>127.520584</td>\n",
       "    </tr>\n",
       "    <tr>\n",
       "      <th>2</th>\n",
       "      <td>2021-12-14</td>\n",
       "      <td>2261</td>\n",
       "      <td>653</td>\n",
       "      <td>0.0</td>\n",
       "      <td>110.635696</td>\n",
       "    </tr>\n",
       "  </tbody>\n",
       "</table>\n",
       "</div>"
      ],
      "text/plain": [
       "        Date  FIPS  TimeFromStart  Cases  Predicted_Cases\n",
       "0 2021-12-12  2261            651    0.0        94.498413\n",
       "1 2021-12-13  2261            652    0.0       127.520584\n",
       "2 2021-12-14  2261            653    0.0       110.635696"
      ]
     },
     "execution_count": 47,
     "metadata": {},
     "output_type": "execute_result"
    }
   ],
   "source": [
    "flag = 'test'\n",
    "\n",
    "if flag == 'train': df = exp.train_data\n",
    "elif flag == 'val': df = exp.val_data\n",
    "elif flag == 'test': df = exp.test_data\n",
    "else: raise NotImplementedError\n",
    "\n",
    "preds, trues, predictions_index = exp.pred(load_model=True, flag=flag, return_index=True)\n",
    "predictions_index[exp.age_data.time_index] += args.pred_len + df[exp.age_data.time_index].min()\n",
    "\n",
    "pred_list = [\n",
    "    preds[:, :, target] for target in range(preds.shape[-1])\n",
    "]\n",
    "\n",
    "merged = align_predictions(\n",
    "    df, predictions_index, \n",
    "    pred_list, exp.age_data\n",
    ")\n",
    "merged.head(3)"
   ]
  },
  {
   "cell_type": "code",
   "execution_count": 42,
   "metadata": {},
   "outputs": [
    {
     "data": {
      "text/html": [
       "<div>\n",
       "<style scoped>\n",
       "    .dataframe tbody tr th:only-of-type {\n",
       "        vertical-align: middle;\n",
       "    }\n",
       "\n",
       "    .dataframe tbody tr th {\n",
       "        vertical-align: top;\n",
       "    }\n",
       "\n",
       "    .dataframe thead th {\n",
       "        text-align: right;\n",
       "    }\n",
       "</style>\n",
       "<table border=\"1\" class=\"dataframe\">\n",
       "  <thead>\n",
       "    <tr style=\"text-align: right;\">\n",
       "      <th></th>\n",
       "      <th>FIPS</th>\n",
       "      <th>TimeFromStart</th>\n",
       "      <th>Cases</th>\n",
       "      <th>Predicted_Cases</th>\n",
       "    </tr>\n",
       "  </thead>\n",
       "  <tbody>\n",
       "    <tr>\n",
       "      <th>count</th>\n",
       "      <td>62300.00000</td>\n",
       "      <td>62300.000000</td>\n",
       "      <td>62300.000000</td>\n",
       "      <td>62300.000000</td>\n",
       "    </tr>\n",
       "    <tr>\n",
       "      <th>mean</th>\n",
       "      <td>25826.55000</td>\n",
       "      <td>325.000000</td>\n",
       "      <td>286.210578</td>\n",
       "      <td>283.813995</td>\n",
       "    </tr>\n",
       "    <tr>\n",
       "      <th>std</th>\n",
       "      <td>15937.12053</td>\n",
       "      <td>179.845821</td>\n",
       "      <td>614.938618</td>\n",
       "      <td>450.233612</td>\n",
       "    </tr>\n",
       "    <tr>\n",
       "      <th>min</th>\n",
       "      <td>2261.00000</td>\n",
       "      <td>14.000000</td>\n",
       "      <td>0.000000</td>\n",
       "      <td>0.000000</td>\n",
       "    </tr>\n",
       "    <tr>\n",
       "      <th>25%</th>\n",
       "      <td>12026.00000</td>\n",
       "      <td>169.000000</td>\n",
       "      <td>36.000000</td>\n",
       "      <td>101.911423</td>\n",
       "    </tr>\n",
       "    <tr>\n",
       "      <th>50%</th>\n",
       "      <td>25023.00000</td>\n",
       "      <td>325.000000</td>\n",
       "      <td>122.000000</td>\n",
       "      <td>156.658493</td>\n",
       "    </tr>\n",
       "    <tr>\n",
       "      <th>75%</th>\n",
       "      <td>39038.50000</td>\n",
       "      <td>481.000000</td>\n",
       "      <td>318.000000</td>\n",
       "      <td>282.544960</td>\n",
       "    </tr>\n",
       "    <tr>\n",
       "      <th>max</th>\n",
       "      <td>55079.00000</td>\n",
       "      <td>636.000000</td>\n",
       "      <td>22286.000000</td>\n",
       "      <td>9580.916992</td>\n",
       "    </tr>\n",
       "  </tbody>\n",
       "</table>\n",
       "</div>"
      ],
      "text/plain": [
       "              FIPS  TimeFromStart         Cases  Predicted_Cases\n",
       "count  62300.00000   62300.000000  62300.000000     62300.000000\n",
       "mean   25826.55000     325.000000    286.210578       283.813995\n",
       "std    15937.12053     179.845821    614.938618       450.233612\n",
       "min     2261.00000      14.000000      0.000000         0.000000\n",
       "25%    12026.00000     169.000000     36.000000       101.911423\n",
       "50%    25023.00000     325.000000    122.000000       156.658493\n",
       "75%    39038.50000     481.000000    318.000000       282.544960\n",
       "max    55079.00000     636.000000  22286.000000      9580.916992"
      ]
     },
     "execution_count": 42,
     "metadata": {},
     "output_type": "execute_result"
    }
   ],
   "source": [
    "merged.describe()"
   ]
  },
  {
   "cell_type": "code",
   "execution_count": 48,
   "metadata": {},
   "outputs": [
    {
     "name": "stdout",
     "output_type": "stream",
     "text": [
      "Target Cases: MAE 522.18, RMSE 992.94, RMSLE 3.3357, NNSE 0.5701.\n",
      "\n"
     ]
    }
   ],
   "source": [
    "_ = plotter.summed_plot(merged, type=flag)"
   ]
  }
 ],
 "metadata": {
  "kernelspec": {
   "display_name": "Python 3",
   "language": "python",
   "name": "python3"
  },
  "language_info": {
   "codemirror_mode": {
    "name": "ipython",
    "version": 3
   },
   "file_extension": ".py",
   "mimetype": "text/x-python",
   "name": "python",
   "nbconvert_exporter": "python",
   "pygments_lexer": "ipython3",
   "version": "3.10.11"
  },
  "orig_nbformat": 4
 },
 "nbformat": 4,
 "nbformat_minor": 2
}
