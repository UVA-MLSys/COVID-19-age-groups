{
 "cells": [
  {
   "cell_type": "code",
   "execution_count": 28,
   "metadata": {},
   "outputs": [],
   "source": [
    "import pandas as pd\n",
    "import os\n",
    "from utils.plotter import PlotResults\n",
    "from run import *"
   ]
  },
  {
   "cell_type": "code",
   "execution_count": 29,
   "metadata": {},
   "outputs": [],
   "source": [
    "argv = \"\"\"\n",
    "--is_training --use_gpu \n",
    "--result_path scratch\n",
    "--data_path Top_20.csv \n",
    "--model Transformer --scale\n",
    "\"\"\".split()\n",
    "parser = get_parser()\n",
    "args = parser.parse_args(argv)"
   ]
  },
  {
   "cell_type": "code",
   "execution_count": 30,
   "metadata": {},
   "outputs": [],
   "source": [
    "set_random_seed(args.seed)\n",
    "args.use_gpu = True if torch.cuda.is_available() and args.use_gpu else False\n",
    "\n",
    "if args.use_gpu and args.use_multi_gpu:\n",
    "    args.devices = args.devices.replace(' ', '')\n",
    "    device_ids = args.devices.split(',')\n",
    "    args.device_ids = [int(id_) for id_ in device_ids]\n",
    "    args.gpu = args.device_ids[0]\n",
    "    \n",
    "args.n_features = len(set(DataConfig.static_reals+DataConfig.observed_reals+DataConfig.targets))\n",
    "args.n_targets = len(DataConfig.targets)\n",
    "\n",
    "args.enc_in = args.n_features\n",
    "# args.dec_in = args.c_out = args.n_targets = len(DataConfig.targets)\n",
    "\n",
    "args.mode = 2\n",
    "if args.mode == 1:\n",
    "    args.dec_in = args.c_out = args.n_targets = len(DataConfig.targets)\n",
    "else:\n",
    "    args.dec_in = args.c_out = args.n_features\n",
    "    args.n_targets = len(DataConfig.targets)"
   ]
  },
  {
   "cell_type": "code",
   "execution_count": 31,
   "metadata": {},
   "outputs": [
    {
     "name": "stdout",
     "output_type": "stream",
     "text": [
      "Use GPU: cuda:0\n",
      "\n",
      "Train samples 12740, validation samples 560, test samples 560\n",
      "637 days of training, 14 days of validation data, 14 days of test data.\n",
      "\n",
      "Fitting scalers on train data\n"
     ]
    }
   ],
   "source": [
    "setting = stringify_setting(args)\n",
    "exp = Exp_Forecast(args, setting)\n",
    "\n",
    "plotter = PlotResults(\n",
    "    exp.output_folder, DataConfig.targets\n",
    ")"
   ]
  },
  {
   "cell_type": "code",
   "execution_count": 32,
   "metadata": {},
   "outputs": [
    {
     "name": "stdout",
     "output_type": "stream",
     "text": [
      "Time encoded columns : ['month', 'day', 'weekday']\n",
      "Getting valid sampling locations.\n",
      "loading best model from scratch\\Transformer_Top_20_scale_True_mode_2\\checkpoint.pth\n",
      "Preds and Trues shape: (20, 14, 1) (20, 14, 1)\n"
     ]
    }
   ],
   "source": [
    "flag = 'val'\n",
    "\n",
    "if flag == 'train': df = exp.train_data\n",
    "elif flag == 'val': df = exp.val_data\n",
    "elif flag == 'test': df = exp.test_data\n",
    "else: raise NotImplementedError\n",
    "\n",
    "preds, trues, predictions_index = exp.pred(load_model=True, flag=flag, return_index=True)\n",
    "predictions_index[exp.age_data.time_index] += args.pred_len + df[exp.age_data.time_index].min()"
   ]
  },
  {
   "cell_type": "code",
   "execution_count": 33,
   "metadata": {},
   "outputs": [
    {
     "data": {
      "text/html": [
       "<div>\n",
       "<style scoped>\n",
       "    .dataframe tbody tr th:only-of-type {\n",
       "        vertical-align: middle;\n",
       "    }\n",
       "\n",
       "    .dataframe tbody tr th {\n",
       "        vertical-align: top;\n",
       "    }\n",
       "\n",
       "    .dataframe thead th {\n",
       "        text-align: right;\n",
       "    }\n",
       "</style>\n",
       "<table border=\"1\" class=\"dataframe\">\n",
       "  <thead>\n",
       "    <tr style=\"text-align: right;\">\n",
       "      <th></th>\n",
       "      <th>Date</th>\n",
       "      <th>FIPS</th>\n",
       "      <th>TimeFromStart</th>\n",
       "      <th>Cases</th>\n",
       "      <th>Predicted_Cases</th>\n",
       "    </tr>\n",
       "  </thead>\n",
       "  <tbody>\n",
       "    <tr>\n",
       "      <th>0</th>\n",
       "      <td>2021-11-28</td>\n",
       "      <td>2261</td>\n",
       "      <td>637</td>\n",
       "      <td>1.0</td>\n",
       "      <td>0.0</td>\n",
       "    </tr>\n",
       "    <tr>\n",
       "      <th>1</th>\n",
       "      <td>2021-11-29</td>\n",
       "      <td>2261</td>\n",
       "      <td>638</td>\n",
       "      <td>2.0</td>\n",
       "      <td>0.0</td>\n",
       "    </tr>\n",
       "    <tr>\n",
       "      <th>2</th>\n",
       "      <td>2021-11-30</td>\n",
       "      <td>2261</td>\n",
       "      <td>639</td>\n",
       "      <td>1.0</td>\n",
       "      <td>0.0</td>\n",
       "    </tr>\n",
       "  </tbody>\n",
       "</table>\n",
       "</div>"
      ],
      "text/plain": [
       "        Date  FIPS  TimeFromStart  Cases  Predicted_Cases\n",
       "0 2021-11-28  2261            637    1.0              0.0\n",
       "1 2021-11-29  2261            638    2.0              0.0\n",
       "2 2021-11-30  2261            639    1.0              0.0"
      ]
     },
     "execution_count": 33,
     "metadata": {},
     "output_type": "execute_result"
    }
   ],
   "source": [
    "from utils.utils import align_predictions\n",
    "\n",
    "pred_list = [\n",
    "    preds[:, :, target] for target in range(preds.shape[-1])\n",
    "]\n",
    "\n",
    "merged = align_predictions(\n",
    "    df, predictions_index, \n",
    "    pred_list, exp.age_data\n",
    ")\n",
    "merged.head(3)"
   ]
  },
  {
   "cell_type": "code",
   "execution_count": 34,
   "metadata": {},
   "outputs": [
    {
     "data": {
      "text/html": [
       "<div>\n",
       "<style scoped>\n",
       "    .dataframe tbody tr th:only-of-type {\n",
       "        vertical-align: middle;\n",
       "    }\n",
       "\n",
       "    .dataframe tbody tr th {\n",
       "        vertical-align: top;\n",
       "    }\n",
       "\n",
       "    .dataframe thead th {\n",
       "        text-align: right;\n",
       "    }\n",
       "</style>\n",
       "<table border=\"1\" class=\"dataframe\">\n",
       "  <thead>\n",
       "    <tr style=\"text-align: right;\">\n",
       "      <th></th>\n",
       "      <th>FIPS</th>\n",
       "      <th>TimeFromStart</th>\n",
       "      <th>Cases</th>\n",
       "      <th>Predicted_Cases</th>\n",
       "    </tr>\n",
       "  </thead>\n",
       "  <tbody>\n",
       "    <tr>\n",
       "      <th>count</th>\n",
       "      <td>280.000000</td>\n",
       "      <td>280.000000</td>\n",
       "      <td>280.000000</td>\n",
       "      <td>280.000000</td>\n",
       "    </tr>\n",
       "    <tr>\n",
       "      <th>mean</th>\n",
       "      <td>22995.050000</td>\n",
       "      <td>643.500000</td>\n",
       "      <td>628.057143</td>\n",
       "      <td>721.968994</td>\n",
       "    </tr>\n",
       "    <tr>\n",
       "      <th>std</th>\n",
       "      <td>18281.790462</td>\n",
       "      <td>4.038347</td>\n",
       "      <td>998.972938</td>\n",
       "      <td>577.650269</td>\n",
       "    </tr>\n",
       "    <tr>\n",
       "      <th>min</th>\n",
       "      <td>2261.000000</td>\n",
       "      <td>637.000000</td>\n",
       "      <td>0.000000</td>\n",
       "      <td>0.000000</td>\n",
       "    </tr>\n",
       "    <tr>\n",
       "      <th>25%</th>\n",
       "      <td>6069.500000</td>\n",
       "      <td>640.000000</td>\n",
       "      <td>0.000000</td>\n",
       "      <td>501.858711</td>\n",
       "    </tr>\n",
       "    <tr>\n",
       "      <th>50%</th>\n",
       "      <td>14558.500000</td>\n",
       "      <td>643.500000</td>\n",
       "      <td>244.500000</td>\n",
       "      <td>628.400208</td>\n",
       "    </tr>\n",
       "    <tr>\n",
       "      <th>75%</th>\n",
       "      <td>39068.000000</td>\n",
       "      <td>647.000000</td>\n",
       "      <td>738.000000</td>\n",
       "      <td>709.880127</td>\n",
       "    </tr>\n",
       "    <tr>\n",
       "      <th>max</th>\n",
       "      <td>53033.000000</td>\n",
       "      <td>650.000000</td>\n",
       "      <td>8176.000000</td>\n",
       "      <td>3929.081543</td>\n",
       "    </tr>\n",
       "  </tbody>\n",
       "</table>\n",
       "</div>"
      ],
      "text/plain": [
       "               FIPS  TimeFromStart        Cases  Predicted_Cases\n",
       "count    280.000000     280.000000   280.000000       280.000000\n",
       "mean   22995.050000     643.500000   628.057143       721.968994\n",
       "std    18281.790462       4.038347   998.972938       577.650269\n",
       "min     2261.000000     637.000000     0.000000         0.000000\n",
       "25%     6069.500000     640.000000     0.000000       501.858711\n",
       "50%    14558.500000     643.500000   244.500000       628.400208\n",
       "75%    39068.000000     647.000000   738.000000       709.880127\n",
       "max    53033.000000     650.000000  8176.000000      3929.081543"
      ]
     },
     "execution_count": 34,
     "metadata": {},
     "output_type": "execute_result"
    }
   ],
   "source": [
    "merged.describe()"
   ]
  },
  {
   "cell_type": "code",
   "execution_count": 35,
   "metadata": {},
   "outputs": [
    {
     "name": "stdout",
     "output_type": "stream",
     "text": [
      "Target Cases: MAE 590.92, RMSE 882.35, RMSLE 3.4187, NNSE 0.56368.\n",
      "\n"
     ]
    }
   ],
   "source": [
    "_ = plotter.summed_plot(merged, type=flag)"
   ]
  }
 ],
 "metadata": {
  "kernelspec": {
   "display_name": "Python 3",
   "language": "python",
   "name": "python3"
  },
  "language_info": {
   "codemirror_mode": {
    "name": "ipython",
    "version": 3
   },
   "file_extension": ".py",
   "mimetype": "text/x-python",
   "name": "python",
   "nbconvert_exporter": "python",
   "pygments_lexer": "ipython3",
   "version": "3.10.11"
  },
  "orig_nbformat": 4
 },
 "nbformat": 4,
 "nbformat_minor": 2
}
